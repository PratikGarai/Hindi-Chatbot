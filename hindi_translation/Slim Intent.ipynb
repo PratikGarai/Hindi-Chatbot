{
 "cells": [
  {
   "cell_type": "code",
   "execution_count": 17,
   "metadata": {},
   "outputs": [],
   "source": [
    "from englisttohindi.englisttohindi import EngtoHindi\n",
    "import re\n",
    "import pandas as pd"
   ]
  },
  {
   "cell_type": "code",
   "execution_count": 34,
   "metadata": {},
   "outputs": [],
   "source": [
    "def convert(message):\n",
    "    if isinstance(message, list):\n",
    "        l = []\n",
    "        for i in message :\n",
    "            while True:\n",
    "                res = EngtoHindi(i)\n",
    "                if res and res.convert:\n",
    "                    break\n",
    "            l.append(res.convert)\n",
    "        return l\n",
    "    else :\n",
    "        res=None\n",
    "        while True:\n",
    "            res = EngtoHindi(message)\n",
    "            if res and res.convert :\n",
    "                break\n",
    "        return res.convert"
   ]
  },
  {
   "cell_type": "code",
   "execution_count": 35,
   "metadata": {},
   "outputs": [
    {
     "data": {
      "text/plain": [
       "['अलविदा <मानव>', 'नमस्ते']"
      ]
     },
     "execution_count": 35,
     "metadata": {},
     "output_type": "execute_result"
    }
   ],
   "source": [
    "convert([\"bye <HUMAN>\", \"hello\"])"
   ]
  },
  {
   "cell_type": "code",
   "execution_count": 37,
   "metadata": {},
   "outputs": [
    {
     "data": {
      "text/plain": [
       "'नमस्ते'"
      ]
     },
     "execution_count": 37,
     "metadata": {},
     "output_type": "execute_result"
    }
   ],
   "source": [
    "convert(\"hello\")"
   ]
  },
  {
   "cell_type": "code",
   "execution_count": 45,
   "metadata": {},
   "outputs": [
    {
     "data": {
      "text/html": [
       "<div>\n",
       "<style scoped>\n",
       "    .dataframe tbody tr th:only-of-type {\n",
       "        vertical-align: middle;\n",
       "    }\n",
       "\n",
       "    .dataframe tbody tr th {\n",
       "        vertical-align: top;\n",
       "    }\n",
       "\n",
       "    .dataframe thead th {\n",
       "        text-align: right;\n",
       "    }\n",
       "</style>\n",
       "<table border=\"1\" class=\"dataframe\">\n",
       "  <thead>\n",
       "    <tr style=\"text-align: right;\">\n",
       "      <th></th>\n",
       "      <th>intent</th>\n",
       "      <th>text</th>\n",
       "      <th>responses</th>\n",
       "      <th>extension</th>\n",
       "      <th>context</th>\n",
       "      <th>entityType</th>\n",
       "      <th>entities</th>\n",
       "    </tr>\n",
       "  </thead>\n",
       "  <tbody>\n",
       "    <tr>\n",
       "      <th>0</th>\n",
       "      <td>Greeting</td>\n",
       "      <td>[Hi, Hi there, Hola, Hello, Hello there, Hya, ...</td>\n",
       "      <td>[Hi human, Hello human, Hola human]</td>\n",
       "      <td>{'function': '', 'entities': False, 'responses...</td>\n",
       "      <td>{'in': '', 'out': 'GreetingUserRequest', 'clea...</td>\n",
       "      <td>NA</td>\n",
       "      <td>[]</td>\n",
       "    </tr>\n",
       "    <tr>\n",
       "      <th>1</th>\n",
       "      <td>GreetingResponse</td>\n",
       "      <td>[My user is &lt;HUMAN&gt;, This is &lt;HUMAN&gt;, I am &lt;HU...</td>\n",
       "      <td>[Great! Hi &lt;HUMAN&gt;! How can I help?, Good! Hi ...</td>\n",
       "      <td>{'function': 'extensions.gHumans.updateHuman',...</td>\n",
       "      <td>{'in': 'GreetingUserRequest', 'out': '', 'clea...</td>\n",
       "      <td>NA</td>\n",
       "      <td>[{'entity': 'HUMAN', 'rangeFrom': 3, 'rangeTo'...</td>\n",
       "    </tr>\n",
       "    <tr>\n",
       "      <th>2</th>\n",
       "      <td>CourtesyGreeting</td>\n",
       "      <td>[How are you?, Hi how are you?, Hello how are ...</td>\n",
       "      <td>[Hello, I am great, how are you?, Hello, how a...</td>\n",
       "      <td>{'function': '', 'entities': False, 'responses...</td>\n",
       "      <td>{'in': '', 'out': 'CourtesyGreetingUserRequest...</td>\n",
       "      <td>NA</td>\n",
       "      <td>[]</td>\n",
       "    </tr>\n",
       "    <tr>\n",
       "      <th>3</th>\n",
       "      <td>CourtesyGreetingResponse</td>\n",
       "      <td>[Good thanks! My user is &lt;HUMAN&gt;, Good thanks!...</td>\n",
       "      <td>[Great! Hi &lt;HUMAN&gt;! How can I help?, Good! Hi ...</td>\n",
       "      <td>{'function': 'extensions.gHumans.updateHuman',...</td>\n",
       "      <td>{'in': 'GreetingUserRequest', 'out': '', 'clea...</td>\n",
       "      <td>NA</td>\n",
       "      <td>[{'entity': 'HUMAN', 'rangeFrom': 5, 'rangeTo'...</td>\n",
       "    </tr>\n",
       "    <tr>\n",
       "      <th>4</th>\n",
       "      <td>CurrentHumanQuery</td>\n",
       "      <td>[What is my name?, What do you call me?, Who d...</td>\n",
       "      <td>[You are &lt;HUMAN&gt;! How can I help?, Your name i...</td>\n",
       "      <td>{'function': 'extensions.gHumans.getCurrentHum...</td>\n",
       "      <td>{'in': '', 'out': 'CurrentHumanQuery', 'clear'...</td>\n",
       "      <td>NA</td>\n",
       "      <td>[]</td>\n",
       "    </tr>\n",
       "  </tbody>\n",
       "</table>\n",
       "</div>"
      ],
      "text/plain": [
       "                     intent  \\\n",
       "0                  Greeting   \n",
       "1          GreetingResponse   \n",
       "2          CourtesyGreeting   \n",
       "3  CourtesyGreetingResponse   \n",
       "4         CurrentHumanQuery   \n",
       "\n",
       "                                                text  \\\n",
       "0  [Hi, Hi there, Hola, Hello, Hello there, Hya, ...   \n",
       "1  [My user is <HUMAN>, This is <HUMAN>, I am <HU...   \n",
       "2  [How are you?, Hi how are you?, Hello how are ...   \n",
       "3  [Good thanks! My user is <HUMAN>, Good thanks!...   \n",
       "4  [What is my name?, What do you call me?, Who d...   \n",
       "\n",
       "                                           responses  \\\n",
       "0                [Hi human, Hello human, Hola human]   \n",
       "1  [Great! Hi <HUMAN>! How can I help?, Good! Hi ...   \n",
       "2  [Hello, I am great, how are you?, Hello, how a...   \n",
       "3  [Great! Hi <HUMAN>! How can I help?, Good! Hi ...   \n",
       "4  [You are <HUMAN>! How can I help?, Your name i...   \n",
       "\n",
       "                                           extension  \\\n",
       "0  {'function': '', 'entities': False, 'responses...   \n",
       "1  {'function': 'extensions.gHumans.updateHuman',...   \n",
       "2  {'function': '', 'entities': False, 'responses...   \n",
       "3  {'function': 'extensions.gHumans.updateHuman',...   \n",
       "4  {'function': 'extensions.gHumans.getCurrentHum...   \n",
       "\n",
       "                                             context entityType  \\\n",
       "0  {'in': '', 'out': 'GreetingUserRequest', 'clea...         NA   \n",
       "1  {'in': 'GreetingUserRequest', 'out': '', 'clea...         NA   \n",
       "2  {'in': '', 'out': 'CourtesyGreetingUserRequest...         NA   \n",
       "3  {'in': 'GreetingUserRequest', 'out': '', 'clea...         NA   \n",
       "4  {'in': '', 'out': 'CurrentHumanQuery', 'clear'...         NA   \n",
       "\n",
       "                                            entities  \n",
       "0                                                 []  \n",
       "1  [{'entity': 'HUMAN', 'rangeFrom': 3, 'rangeTo'...  \n",
       "2                                                 []  \n",
       "3  [{'entity': 'HUMAN', 'rangeFrom': 5, 'rangeTo'...  \n",
       "4                                                 []  "
      ]
     },
     "execution_count": 45,
     "metadata": {},
     "output_type": "execute_result"
    }
   ],
   "source": [
    "df = pd.read_json('english_intent.json')\n",
    "df.head()"
   ]
  },
  {
   "cell_type": "code",
   "execution_count": 25,
   "metadata": {},
   "outputs": [
    {
     "name": "stdout",
     "output_type": "stream",
     "text": [
      "<class 'pandas.core.frame.DataFrame'>\n",
      "RangeIndex: 18 entries, 0 to 17\n",
      "Data columns (total 7 columns):\n",
      " #   Column      Non-Null Count  Dtype \n",
      "---  ------      --------------  ----- \n",
      " 0   intent      18 non-null     object\n",
      " 1   text        18 non-null     object\n",
      " 2   responses   18 non-null     object\n",
      " 3   extension   18 non-null     object\n",
      " 4   context     18 non-null     object\n",
      " 5   entityType  17 non-null     object\n",
      " 6   entities    18 non-null     object\n",
      "dtypes: object(7)\n",
      "memory usage: 1.1+ KB\n"
     ]
    }
   ],
   "source": [
    "df.info()"
   ]
  },
  {
   "cell_type": "code",
   "execution_count": 26,
   "metadata": {},
   "outputs": [
    {
     "data": {
      "text/plain": [
       "'Greeting Response'"
      ]
     },
     "execution_count": 26,
     "metadata": {},
     "output_type": "execute_result"
    }
   ],
   "source": [
    "def camel_case_split(str):\n",
    "    return ' '.join(re.findall(r'[A-Z](?:[a-z]+|[A-Z]*(?=[A-Z]|$))', str))\n",
    "\n",
    "camel_case_split(\"GreetingResponse\")"
   ]
  },
  {
   "cell_type": "code",
   "execution_count": 46,
   "metadata": {},
   "outputs": [
    {
     "name": "stdout",
     "output_type": "stream",
     "text": [
      "Failed to Make Response  HTTPSConnectionPool(host='translate.googleapis.com', port=443): Max retries exceeded with url: /translate_a/single?client=gtx&sl=en&tl=hi&dt=t&q=Courtesy+Greeting+Response (Caused by NewConnectionError('<urllib3.connection.HTTPSConnection object at 0x0000026A98AA8610>: Failed to establish a new connection: [WinError 10060] A connection attempt failed because the connected party did not properly respond after a period of time, or established connection failed because connected host has failed to respond'))\n"
     ]
    },
    {
     "data": {
      "text/html": [
       "<div>\n",
       "<style scoped>\n",
       "    .dataframe tbody tr th:only-of-type {\n",
       "        vertical-align: middle;\n",
       "    }\n",
       "\n",
       "    .dataframe tbody tr th {\n",
       "        vertical-align: top;\n",
       "    }\n",
       "\n",
       "    .dataframe thead th {\n",
       "        text-align: right;\n",
       "    }\n",
       "</style>\n",
       "<table border=\"1\" class=\"dataframe\">\n",
       "  <thead>\n",
       "    <tr style=\"text-align: right;\">\n",
       "      <th></th>\n",
       "      <th>intent</th>\n",
       "      <th>text</th>\n",
       "      <th>responses</th>\n",
       "      <th>extension</th>\n",
       "      <th>context</th>\n",
       "      <th>entityType</th>\n",
       "      <th>entities</th>\n",
       "    </tr>\n",
       "  </thead>\n",
       "  <tbody>\n",
       "    <tr>\n",
       "      <th>0</th>\n",
       "      <td>शुभकामना</td>\n",
       "      <td>[Hi, Hi there, Hola, Hello, Hello there, Hya, ...</td>\n",
       "      <td>[Hi human, Hello human, Hola human]</td>\n",
       "      <td>{'function': '', 'entities': False, 'responses...</td>\n",
       "      <td>{'in': '', 'out': 'GreetingUserRequest', 'clea...</td>\n",
       "      <td>NA</td>\n",
       "      <td>[]</td>\n",
       "    </tr>\n",
       "    <tr>\n",
       "      <th>1</th>\n",
       "      <td>अभिवादन प्रतिक्रिया</td>\n",
       "      <td>[My user is &lt;HUMAN&gt;, This is &lt;HUMAN&gt;, I am &lt;HU...</td>\n",
       "      <td>[Great! Hi &lt;HUMAN&gt;! How can I help?, Good! Hi ...</td>\n",
       "      <td>{'function': 'extensions.gHumans.updateHuman',...</td>\n",
       "      <td>{'in': 'GreetingUserRequest', 'out': '', 'clea...</td>\n",
       "      <td>NA</td>\n",
       "      <td>[{'entity': 'HUMAN', 'rangeFrom': 3, 'rangeTo'...</td>\n",
       "    </tr>\n",
       "    <tr>\n",
       "      <th>2</th>\n",
       "      <td>सौजन्य अभिवादन</td>\n",
       "      <td>[How are you?, Hi how are you?, Hello how are ...</td>\n",
       "      <td>[Hello, I am great, how are you?, Hello, how a...</td>\n",
       "      <td>{'function': '', 'entities': False, 'responses...</td>\n",
       "      <td>{'in': '', 'out': 'CourtesyGreetingUserRequest...</td>\n",
       "      <td>NA</td>\n",
       "      <td>[]</td>\n",
       "    </tr>\n",
       "    <tr>\n",
       "      <th>3</th>\n",
       "      <td>None</td>\n",
       "      <td>[Good thanks! My user is &lt;HUMAN&gt;, Good thanks!...</td>\n",
       "      <td>[Great! Hi &lt;HUMAN&gt;! How can I help?, Good! Hi ...</td>\n",
       "      <td>{'function': 'extensions.gHumans.updateHuman',...</td>\n",
       "      <td>{'in': 'GreetingUserRequest', 'out': '', 'clea...</td>\n",
       "      <td>NA</td>\n",
       "      <td>[{'entity': 'HUMAN', 'rangeFrom': 5, 'rangeTo'...</td>\n",
       "    </tr>\n",
       "    <tr>\n",
       "      <th>4</th>\n",
       "      <td>वर्तमान मानव प्रश्न</td>\n",
       "      <td>[What is my name?, What do you call me?, Who d...</td>\n",
       "      <td>[You are &lt;HUMAN&gt;! How can I help?, Your name i...</td>\n",
       "      <td>{'function': 'extensions.gHumans.getCurrentHum...</td>\n",
       "      <td>{'in': '', 'out': 'CurrentHumanQuery', 'clear'...</td>\n",
       "      <td>NA</td>\n",
       "      <td>[]</td>\n",
       "    </tr>\n",
       "  </tbody>\n",
       "</table>\n",
       "</div>"
      ],
      "text/plain": [
       "                intent                                               text  \\\n",
       "0             शुभकामना  [Hi, Hi there, Hola, Hello, Hello there, Hya, ...   \n",
       "1  अभिवादन प्रतिक्रिया  [My user is <HUMAN>, This is <HUMAN>, I am <HU...   \n",
       "2       सौजन्य अभिवादन  [How are you?, Hi how are you?, Hello how are ...   \n",
       "3                 None  [Good thanks! My user is <HUMAN>, Good thanks!...   \n",
       "4  वर्तमान मानव प्रश्न  [What is my name?, What do you call me?, Who d...   \n",
       "\n",
       "                                           responses  \\\n",
       "0                [Hi human, Hello human, Hola human]   \n",
       "1  [Great! Hi <HUMAN>! How can I help?, Good! Hi ...   \n",
       "2  [Hello, I am great, how are you?, Hello, how a...   \n",
       "3  [Great! Hi <HUMAN>! How can I help?, Good! Hi ...   \n",
       "4  [You are <HUMAN>! How can I help?, Your name i...   \n",
       "\n",
       "                                           extension  \\\n",
       "0  {'function': '', 'entities': False, 'responses...   \n",
       "1  {'function': 'extensions.gHumans.updateHuman',...   \n",
       "2  {'function': '', 'entities': False, 'responses...   \n",
       "3  {'function': 'extensions.gHumans.updateHuman',...   \n",
       "4  {'function': 'extensions.gHumans.getCurrentHum...   \n",
       "\n",
       "                                             context entityType  \\\n",
       "0  {'in': '', 'out': 'GreetingUserRequest', 'clea...         NA   \n",
       "1  {'in': 'GreetingUserRequest', 'out': '', 'clea...         NA   \n",
       "2  {'in': '', 'out': 'CourtesyGreetingUserRequest...         NA   \n",
       "3  {'in': 'GreetingUserRequest', 'out': '', 'clea...         NA   \n",
       "4  {'in': '', 'out': 'CurrentHumanQuery', 'clear'...         NA   \n",
       "\n",
       "                                            entities  \n",
       "0                                                 []  \n",
       "1  [{'entity': 'HUMAN', 'rangeFrom': 3, 'rangeTo'...  \n",
       "2                                                 []  \n",
       "3  [{'entity': 'HUMAN', 'rangeFrom': 5, 'rangeTo'...  \n",
       "4                                                 []  "
      ]
     },
     "execution_count": 46,
     "metadata": {},
     "output_type": "execute_result"
    }
   ],
   "source": [
    "df['intent'] = df['intent'].apply(camel_case_split)\n",
    "df['intent'] = df['intent'].apply(convert)\n",
    "df.head()"
   ]
  },
  {
   "cell_type": "code",
   "execution_count": null,
   "metadata": {},
   "outputs": [],
   "source": [
    "df.to_json(f'hindi_intent.json')"
   ]
  }
 ],
 "metadata": {
  "kernelspec": {
   "display_name": "Python 3",
   "language": "python",
   "name": "python3"
  },
  "language_info": {
   "codemirror_mode": {
    "name": "ipython",
    "version": 3
   },
   "file_extension": ".py",
   "mimetype": "text/x-python",
   "name": "python",
   "nbconvert_exporter": "python",
   "pygments_lexer": "ipython3",
   "version": "3.8.5"
  }
 },
 "nbformat": 4,
 "nbformat_minor": 4
}
