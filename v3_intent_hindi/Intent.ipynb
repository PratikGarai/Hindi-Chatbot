{
 "cells": [
  {
   "cell_type": "code",
   "execution_count": 1,
   "metadata": {},
   "outputs": [],
   "source": [
    "import os\n",
    "import requests\n",
    "import json\n",
    "import re\n",
    "import pyttsx3\n",
    "import random\n",
    "import pickle\n",
    "\n",
    "import matplotlib.pyplot as plt\n",
    "import pandas as pd\n",
    "import numpy as np\n",
    "\n",
    "from inltk.inltk import get_sentence_encoding\n",
    "from sklearn.utils import shuffle\n",
    "\n",
    "from sklearn.preprocessing import LabelEncoder\n",
    "from sklearn.preprocessing import OneHotEncoder\n",
    "from sklearn.model_selection import train_test_split\n",
    "\n",
    "from keras.models import Sequential, load_model\n",
    "from keras.layers import Dense, LSTM, Bidirectional, Dropout\n",
    "from keras.callbacks import EarlyStopping \n",
    "from keras.callbacks import ModelCheckpoint"
   ]
  },
  {
   "cell_type": "code",
   "execution_count": 2,
   "metadata": {},
   "outputs": [
    {
     "data": {
      "text/plain": [
       "'परीक्षा'"
      ]
     },
     "execution_count": 2,
     "metadata": {},
     "output_type": "execute_result"
    }
   ],
   "source": [
    "# ENGLISH TO HINDI TRANSLATOR USING A PRIVATE AZURE SERVICE\n",
    "subscription_key = '1352efe917df4167b7e990696200e04a'\n",
    "endpoint =  'https://api.cognitive.microsofttranslator.com/'\n",
    "\n",
    "path = '/translate?api-version=3.0'\n",
    "params = '&from=en&to=hi'\n",
    "constructed_url = endpoint + path + params\n",
    "\n",
    "headers = {\n",
    "    'Ocp-Apim-Subscription-Key': subscription_key,\n",
    "    'Content-type': 'application/json',\n",
    "    'Ocp-Apim-Subscription-Region': 'centralindia',\n",
    "}\n",
    "\n",
    "def translate(text):\n",
    "    body = []\n",
    "    count = 0\n",
    "    if isinstance(text, list):\n",
    "        for sent in text:\n",
    "            body.append({'text': sent})\n",
    "            count += len(sent)\n",
    "            if count>10000:\n",
    "                body.pop(-1)\n",
    "                break\n",
    "    else:\n",
    "        body.append({'text': text})\n",
    "    \n",
    "    request = requests.post(constructed_url, headers=headers, json=body)\n",
    "    response = request.json()\n",
    "    \n",
    "    if isinstance(text, list):\n",
    "        try:\n",
    "            return [result['translations'][0]['text'] for result in response]\n",
    "        except:\n",
    "            print(json.dumps(response,indent=2))\n",
    "            print(body)\n",
    "    else:\n",
    "        return response[0]['translations'][0]['text']\n",
    "\n",
    "translate('test')"
   ]
  },
  {
   "cell_type": "code",
   "execution_count": 3,
   "metadata": {},
   "outputs": [
    {
     "name": "stdout",
     "output_type": "stream",
     "text": [
      "\n",
      "\n"
     ]
    }
   ],
   "source": [
    "# TESTER FUNCTION FOR TRANSLATOR THAT COPIES TO CLIPBOARD\n",
    "import pyperclip\n",
    "result = translate(input())\n",
    "print(result)\n",
    "pyperclip.copy(result)"
   ]
  },
  {
   "cell_type": "code",
   "execution_count": 56,
   "metadata": {},
   "outputs": [
    {
     "data": {
      "text/html": [
       "<div>\n",
       "<style scoped>\n",
       "    .dataframe tbody tr th:only-of-type {\n",
       "        vertical-align: middle;\n",
       "    }\n",
       "\n",
       "    .dataframe tbody tr th {\n",
       "        vertical-align: top;\n",
       "    }\n",
       "\n",
       "    .dataframe thead th {\n",
       "        text-align: right;\n",
       "    }\n",
       "</style>\n",
       "<table border=\"1\" class=\"dataframe\">\n",
       "  <thead>\n",
       "    <tr style=\"text-align: right;\">\n",
       "      <th></th>\n",
       "      <th>intent</th>\n",
       "      <th>text</th>\n",
       "      <th>responses</th>\n",
       "      <th>extension</th>\n",
       "      <th>context</th>\n",
       "      <th>entityType</th>\n",
       "      <th>entities</th>\n",
       "    </tr>\n",
       "  </thead>\n",
       "  <tbody>\n",
       "    <tr>\n",
       "      <th>0</th>\n",
       "      <td>Greeting</td>\n",
       "      <td>[Hi, Hi there, Hello, Hello there, Hya there]</td>\n",
       "      <td>[Hi human, Hello human]</td>\n",
       "      <td>{'function': '', 'entities': False, 'responses...</td>\n",
       "      <td>{'in': '', 'out': 'GreetingUserRequest', 'clea...</td>\n",
       "      <td>NA</td>\n",
       "      <td>[]</td>\n",
       "    </tr>\n",
       "    <tr>\n",
       "      <th>1</th>\n",
       "      <td>GreetingResponse</td>\n",
       "      <td>[My user is &lt;HUMAN&gt;, This is &lt;HUMAN&gt;, I am &lt;HU...</td>\n",
       "      <td>[I am good! Hi &lt;HUMAN&gt;! How can I help?, I am ...</td>\n",
       "      <td>{'function': 'extensions.gHumans.updateHuman',...</td>\n",
       "      <td>{'in': 'GreetingUserRequest', 'out': '', 'clea...</td>\n",
       "      <td>NA</td>\n",
       "      <td>[{'entity': 'HUMAN', 'rangeFrom': 3, 'rangeTo'...</td>\n",
       "    </tr>\n",
       "    <tr>\n",
       "      <th>2</th>\n",
       "      <td>CourtesyGreeting</td>\n",
       "      <td>[How are you?, Hi how are you?, Hello how are ...</td>\n",
       "      <td>[Hello, I am good. thank you, how are you?, He...</td>\n",
       "      <td>{'function': '', 'entities': False, 'responses...</td>\n",
       "      <td>{'in': '', 'out': 'CourtesyGreetingUserRequest...</td>\n",
       "      <td>NA</td>\n",
       "      <td>[]</td>\n",
       "    </tr>\n",
       "    <tr>\n",
       "      <th>3</th>\n",
       "      <td>CourtesyGreetingResponse</td>\n",
       "      <td>[Thanks! This is &lt;HUMAN&gt;, Thanks! I am &lt;HUMAN&gt;...</td>\n",
       "      <td>[Good! Hello &lt;HUMAN&gt;, how can I help you?, OK!...</td>\n",
       "      <td>{'function': 'extensions.gHumans.updateHuman',...</td>\n",
       "      <td>{'in': 'GreetingUserRequest', 'out': '', 'clea...</td>\n",
       "      <td>NA</td>\n",
       "      <td>[{'entity': 'HUMAN', 'rangeFrom': 5, 'rangeTo'...</td>\n",
       "    </tr>\n",
       "    <tr>\n",
       "      <th>4</th>\n",
       "      <td>CurrentHumanQuery</td>\n",
       "      <td>[What is my name?, What do you call me?, Who d...</td>\n",
       "      <td>[You are &lt;HUMAN&gt;! How can I help?, Your name i...</td>\n",
       "      <td>{'function': 'extensions.gHumans.getCurrentHum...</td>\n",
       "      <td>{'in': '', 'out': 'CurrentHumanQuery', 'clear'...</td>\n",
       "      <td>NA</td>\n",
       "      <td>[]</td>\n",
       "    </tr>\n",
       "  </tbody>\n",
       "</table>\n",
       "</div>"
      ],
      "text/plain": [
       "                     intent  \\\n",
       "0                  Greeting   \n",
       "1          GreetingResponse   \n",
       "2          CourtesyGreeting   \n",
       "3  CourtesyGreetingResponse   \n",
       "4         CurrentHumanQuery   \n",
       "\n",
       "                                                text  \\\n",
       "0      [Hi, Hi there, Hello, Hello there, Hya there]   \n",
       "1  [My user is <HUMAN>, This is <HUMAN>, I am <HU...   \n",
       "2  [How are you?, Hi how are you?, Hello how are ...   \n",
       "3  [Thanks! This is <HUMAN>, Thanks! I am <HUMAN>...   \n",
       "4  [What is my name?, What do you call me?, Who d...   \n",
       "\n",
       "                                           responses  \\\n",
       "0                            [Hi human, Hello human]   \n",
       "1  [I am good! Hi <HUMAN>! How can I help?, I am ...   \n",
       "2  [Hello, I am good. thank you, how are you?, He...   \n",
       "3  [Good! Hello <HUMAN>, how can I help you?, OK!...   \n",
       "4  [You are <HUMAN>! How can I help?, Your name i...   \n",
       "\n",
       "                                           extension  \\\n",
       "0  {'function': '', 'entities': False, 'responses...   \n",
       "1  {'function': 'extensions.gHumans.updateHuman',...   \n",
       "2  {'function': '', 'entities': False, 'responses...   \n",
       "3  {'function': 'extensions.gHumans.updateHuman',...   \n",
       "4  {'function': 'extensions.gHumans.getCurrentHum...   \n",
       "\n",
       "                                             context entityType  \\\n",
       "0  {'in': '', 'out': 'GreetingUserRequest', 'clea...         NA   \n",
       "1  {'in': 'GreetingUserRequest', 'out': '', 'clea...         NA   \n",
       "2  {'in': '', 'out': 'CourtesyGreetingUserRequest...         NA   \n",
       "3  {'in': 'GreetingUserRequest', 'out': '', 'clea...         NA   \n",
       "4  {'in': '', 'out': 'CurrentHumanQuery', 'clear'...         NA   \n",
       "\n",
       "                                            entities  \n",
       "0                                                 []  \n",
       "1  [{'entity': 'HUMAN', 'rangeFrom': 3, 'rangeTo'...  \n",
       "2                                                 []  \n",
       "3  [{'entity': 'HUMAN', 'rangeFrom': 5, 'rangeTo'...  \n",
       "4                                                 []  "
      ]
     },
     "execution_count": 56,
     "metadata": {},
     "output_type": "execute_result"
    }
   ],
   "source": [
    "# READING ENGLISH DATASET\n",
    "import pandas as pd\n",
    "df = pd.read_json(\"./slimmed.json\")\n",
    "df.head()"
   ]
  },
  {
   "cell_type": "code",
   "execution_count": 57,
   "metadata": {},
   "outputs": [
    {
     "data": {
      "text/plain": [
       "array([list(['Hi human', 'Hello human']),\n",
       "       list(['I am good! Hi <HUMAN>! How can I help?', 'I am good! Hi <HUMAN>, how can I help you?', 'I am good! Hello <HUMAN>, what can I do for you?', 'I am good! hi <HUMAN>, what can I do for you?']),\n",
       "       list(['Hello, I am good. thank you, how are you?', 'Hello, thank you, how are you?']),\n",
       "       list(['Good! Hello <HUMAN>, how can I help you?', 'OK! Hello <HUMAN>, what can I do for you?']),\n",
       "       list(['You are <HUMAN>! How can I help?', 'Your name is  <HUMAN>, how can I help you?', 'They call you <HUMAN>, what can I do for you?', 'Your name is <HUMAN>, how can I help you?', '<HUMAN>, what can I do for you?']),\n",
       "       list(['You can call me Geni', 'You may call me Geni', 'Call me Geni']),\n",
       "       list(['My name is GeniSys', 'GeniSys', 'My real name is GeniSys']),\n",
       "       list(['One moment', 'One sec', 'One second']),\n",
       "       list(['No problem!', 'Happy to help!', 'Any time!', 'My pleasure']), list(['OK', 'No problem', 'Right']),\n",
       "       list(['I understand you clearly!']),\n",
       "       list(['I am sorry to disturb you', 'Fine, sorry to disturb you', 'OK, sorry to disturb you']),\n",
       "       list(['See you later', 'Have a nice day', 'Bye! See you soon.']),\n",
       "       list(['No problem, goodbye', 'Not a problem! Have a nice day', 'Bye! See you soon.']),\n",
       "       list(['Let me see', 'Please look at the camera']),\n",
       "       list(['Thank you, I was trained that way', 'I was trained well', 'Thanks, I was trained that way']),\n",
       "       list(['That is an interesting question, can you prove that you are?', 'That is an difficult question, can you prove that you are?', 'That depends, can you prove that you are?'])],\n",
       "      dtype=object)"
      ]
     },
     "execution_count": 57,
     "metadata": {},
     "output_type": "execute_result"
    }
   ],
   "source": [
    "df['responses'].values"
   ]
  },
  {
   "cell_type": "code",
   "execution_count": 58,
   "metadata": {},
   "outputs": [],
   "source": [
    "# INTENTS NEED TO BE SPLIT INTO SEPARATE WORDS TO BE PROPERLY TRANSLATED\n",
    "def camel_case_split(str):\n",
    "    return ' '.join(re.findall(r'[A-Z](?:[a-z]+|[A-Z]*(?=[A-Z]|$))', str))"
   ]
  },
  {
   "cell_type": "code",
   "execution_count": 59,
   "metadata": {},
   "outputs": [
    {
     "data": {
      "text/html": [
       "<div>\n",
       "<style scoped>\n",
       "    .dataframe tbody tr th:only-of-type {\n",
       "        vertical-align: middle;\n",
       "    }\n",
       "\n",
       "    .dataframe tbody tr th {\n",
       "        vertical-align: top;\n",
       "    }\n",
       "\n",
       "    .dataframe thead th {\n",
       "        text-align: right;\n",
       "    }\n",
       "</style>\n",
       "<table border=\"1\" class=\"dataframe\">\n",
       "  <thead>\n",
       "    <tr style=\"text-align: right;\">\n",
       "      <th></th>\n",
       "      <th>intent</th>\n",
       "      <th>text</th>\n",
       "      <th>responses</th>\n",
       "      <th>extension</th>\n",
       "      <th>context</th>\n",
       "      <th>entityType</th>\n",
       "      <th>entities</th>\n",
       "    </tr>\n",
       "  </thead>\n",
       "  <tbody>\n",
       "    <tr>\n",
       "      <th>0</th>\n",
       "      <td>शुभकामना</td>\n",
       "      <td>[Hi, Hi there, Hello, Hello there, Hya there]</td>\n",
       "      <td>[Hi human, Hello human]</td>\n",
       "      <td>{'function': '', 'entities': False, 'responses...</td>\n",
       "      <td>{'in': '', 'out': 'GreetingUserRequest', 'clea...</td>\n",
       "      <td>NA</td>\n",
       "      <td>[]</td>\n",
       "    </tr>\n",
       "    <tr>\n",
       "      <th>1</th>\n",
       "      <td>ग्रीटिंग रिस्पांस</td>\n",
       "      <td>[My user is &lt;HUMAN&gt;, This is &lt;HUMAN&gt;, I am &lt;HU...</td>\n",
       "      <td>[I am good! Hi &lt;HUMAN&gt;! How can I help?, I am ...</td>\n",
       "      <td>{'function': 'extensions.gHumans.updateHuman',...</td>\n",
       "      <td>{'in': 'GreetingUserRequest', 'out': '', 'clea...</td>\n",
       "      <td>NA</td>\n",
       "      <td>[{'entity': 'HUMAN', 'rangeFrom': 3, 'rangeTo'...</td>\n",
       "    </tr>\n",
       "    <tr>\n",
       "      <th>2</th>\n",
       "      <td>सौजन्य अभिवादन</td>\n",
       "      <td>[How are you?, Hi how are you?, Hello how are ...</td>\n",
       "      <td>[Hello, I am good. thank you, how are you?, He...</td>\n",
       "      <td>{'function': '', 'entities': False, 'responses...</td>\n",
       "      <td>{'in': '', 'out': 'CourtesyGreetingUserRequest...</td>\n",
       "      <td>NA</td>\n",
       "      <td>[]</td>\n",
       "    </tr>\n",
       "    <tr>\n",
       "      <th>3</th>\n",
       "      <td>सौजन्य ग्रीटिंग रिस्पांस</td>\n",
       "      <td>[Thanks! This is &lt;HUMAN&gt;, Thanks! I am &lt;HUMAN&gt;...</td>\n",
       "      <td>[Good! Hello &lt;HUMAN&gt;, how can I help you?, OK!...</td>\n",
       "      <td>{'function': 'extensions.gHumans.updateHuman',...</td>\n",
       "      <td>{'in': 'GreetingUserRequest', 'out': '', 'clea...</td>\n",
       "      <td>NA</td>\n",
       "      <td>[{'entity': 'HUMAN', 'rangeFrom': 5, 'rangeTo'...</td>\n",
       "    </tr>\n",
       "    <tr>\n",
       "      <th>4</th>\n",
       "      <td>वर्तमान मानव क्वेरी</td>\n",
       "      <td>[What is my name?, What do you call me?, Who d...</td>\n",
       "      <td>[You are &lt;HUMAN&gt;! How can I help?, Your name i...</td>\n",
       "      <td>{'function': 'extensions.gHumans.getCurrentHum...</td>\n",
       "      <td>{'in': '', 'out': 'CurrentHumanQuery', 'clear'...</td>\n",
       "      <td>NA</td>\n",
       "      <td>[]</td>\n",
       "    </tr>\n",
       "  </tbody>\n",
       "</table>\n",
       "</div>"
      ],
      "text/plain": [
       "                     intent  \\\n",
       "0                  शुभकामना   \n",
       "1         ग्रीटिंग रिस्पांस   \n",
       "2            सौजन्य अभिवादन   \n",
       "3  सौजन्य ग्रीटिंग रिस्पांस   \n",
       "4       वर्तमान मानव क्वेरी   \n",
       "\n",
       "                                                text  \\\n",
       "0      [Hi, Hi there, Hello, Hello there, Hya there]   \n",
       "1  [My user is <HUMAN>, This is <HUMAN>, I am <HU...   \n",
       "2  [How are you?, Hi how are you?, Hello how are ...   \n",
       "3  [Thanks! This is <HUMAN>, Thanks! I am <HUMAN>...   \n",
       "4  [What is my name?, What do you call me?, Who d...   \n",
       "\n",
       "                                           responses  \\\n",
       "0                            [Hi human, Hello human]   \n",
       "1  [I am good! Hi <HUMAN>! How can I help?, I am ...   \n",
       "2  [Hello, I am good. thank you, how are you?, He...   \n",
       "3  [Good! Hello <HUMAN>, how can I help you?, OK!...   \n",
       "4  [You are <HUMAN>! How can I help?, Your name i...   \n",
       "\n",
       "                                           extension  \\\n",
       "0  {'function': '', 'entities': False, 'responses...   \n",
       "1  {'function': 'extensions.gHumans.updateHuman',...   \n",
       "2  {'function': '', 'entities': False, 'responses...   \n",
       "3  {'function': 'extensions.gHumans.updateHuman',...   \n",
       "4  {'function': 'extensions.gHumans.getCurrentHum...   \n",
       "\n",
       "                                             context entityType  \\\n",
       "0  {'in': '', 'out': 'GreetingUserRequest', 'clea...         NA   \n",
       "1  {'in': 'GreetingUserRequest', 'out': '', 'clea...         NA   \n",
       "2  {'in': '', 'out': 'CourtesyGreetingUserRequest...         NA   \n",
       "3  {'in': 'GreetingUserRequest', 'out': '', 'clea...         NA   \n",
       "4  {'in': '', 'out': 'CurrentHumanQuery', 'clear'...         NA   \n",
       "\n",
       "                                            entities  \n",
       "0                                                 []  \n",
       "1  [{'entity': 'HUMAN', 'rangeFrom': 3, 'rangeTo'...  \n",
       "2                                                 []  \n",
       "3  [{'entity': 'HUMAN', 'rangeFrom': 5, 'rangeTo'...  \n",
       "4                                                 []  "
      ]
     },
     "execution_count": 59,
     "metadata": {},
     "output_type": "execute_result"
    }
   ],
   "source": [
    "# SPLIT INTENTS AND TRANSLATE TO HINDI\n",
    "df['intent'] = df['intent'].apply(camel_case_split)\n",
    "df['intent'] = df['intent'].apply(translate)\n",
    "df.head()"
   ]
  },
  {
   "cell_type": "code",
   "execution_count": 60,
   "metadata": {},
   "outputs": [
    {
     "data": {
      "text/html": [
       "<div>\n",
       "<style scoped>\n",
       "    .dataframe tbody tr th:only-of-type {\n",
       "        vertical-align: middle;\n",
       "    }\n",
       "\n",
       "    .dataframe tbody tr th {\n",
       "        vertical-align: top;\n",
       "    }\n",
       "\n",
       "    .dataframe thead th {\n",
       "        text-align: right;\n",
       "    }\n",
       "</style>\n",
       "<table border=\"1\" class=\"dataframe\">\n",
       "  <thead>\n",
       "    <tr style=\"text-align: right;\">\n",
       "      <th></th>\n",
       "      <th>intent</th>\n",
       "      <th>text</th>\n",
       "      <th>responses</th>\n",
       "      <th>extension</th>\n",
       "      <th>context</th>\n",
       "      <th>entityType</th>\n",
       "      <th>entities</th>\n",
       "    </tr>\n",
       "  </thead>\n",
       "  <tbody>\n",
       "    <tr>\n",
       "      <th>0</th>\n",
       "      <td>शुभकामना</td>\n",
       "      <td>[नमस्ते, आपको नमस्कार, नमस्कार, आपको नमस्कार, ...</td>\n",
       "      <td>[हाय मानव, नमस्ते मानव]</td>\n",
       "      <td>{'function': '', 'entities': False, 'responses...</td>\n",
       "      <td>{'in': '', 'out': 'GreetingUserRequest', 'clea...</td>\n",
       "      <td>NA</td>\n",
       "      <td>[]</td>\n",
       "    </tr>\n",
       "    <tr>\n",
       "      <th>1</th>\n",
       "      <td>ग्रीटिंग रिस्पांस</td>\n",
       "      <td>[मेरा उपयोगकर्ता है&lt;HUMAN&gt;, यह है&lt;HUMAN&gt;, मैं ...</td>\n",
       "      <td>[मैं अच्छा/अच्छी हूँ! हाय &lt;HUMAN&gt;! मैं कैसे मद...</td>\n",
       "      <td>{'function': 'extensions.gHumans.updateHuman',...</td>\n",
       "      <td>{'in': 'GreetingUserRequest', 'out': '', 'clea...</td>\n",
       "      <td>NA</td>\n",
       "      <td>[{'entity': 'HUMAN', 'rangeFrom': 3, 'rangeTo'...</td>\n",
       "    </tr>\n",
       "    <tr>\n",
       "      <th>2</th>\n",
       "      <td>सौजन्य अभिवादन</td>\n",
       "      <td>[तुम कैसे हो?, नमस्ते क्या हालचाल है?, नमस्कार...</td>\n",
       "      <td>[हैलो, मैं अच्छा हूं। धन्यवाद, आप कैसे हैं?, न...</td>\n",
       "      <td>{'function': '', 'entities': False, 'responses...</td>\n",
       "      <td>{'in': '', 'out': 'CourtesyGreetingUserRequest...</td>\n",
       "      <td>NA</td>\n",
       "      <td>[]</td>\n",
       "    </tr>\n",
       "    <tr>\n",
       "      <th>3</th>\n",
       "      <td>सौजन्य ग्रीटिंग रिस्पांस</td>\n",
       "      <td>[धन्यवाद! यह है&lt;HUMAN&gt;, धन्यवाद! मैं हूं&lt;HUMAN...</td>\n",
       "      <td>[अच्छा! नमस्ते &lt;HUMAN&gt;, मैं आपकी मदद कैसे कर स...</td>\n",
       "      <td>{'function': 'extensions.gHumans.updateHuman',...</td>\n",
       "      <td>{'in': 'GreetingUserRequest', 'out': '', 'clea...</td>\n",
       "      <td>NA</td>\n",
       "      <td>[{'entity': 'HUMAN', 'rangeFrom': 5, 'rangeTo'...</td>\n",
       "    </tr>\n",
       "    <tr>\n",
       "      <th>4</th>\n",
       "      <td>वर्तमान मानव क्वेरी</td>\n",
       "      <td>[मेरा नाम क्या है?, आप मुझे क्या कहते हैं?, आप...</td>\n",
       "      <td>[आप &lt;HUMAN&gt; रहे हैं! मैं कैसे मदद कर सकता हूं?...</td>\n",
       "      <td>{'function': 'extensions.gHumans.getCurrentHum...</td>\n",
       "      <td>{'in': '', 'out': 'CurrentHumanQuery', 'clear'...</td>\n",
       "      <td>NA</td>\n",
       "      <td>[]</td>\n",
       "    </tr>\n",
       "  </tbody>\n",
       "</table>\n",
       "</div>"
      ],
      "text/plain": [
       "                     intent  \\\n",
       "0                  शुभकामना   \n",
       "1         ग्रीटिंग रिस्पांस   \n",
       "2            सौजन्य अभिवादन   \n",
       "3  सौजन्य ग्रीटिंग रिस्पांस   \n",
       "4       वर्तमान मानव क्वेरी   \n",
       "\n",
       "                                                text  \\\n",
       "0  [नमस्ते, आपको नमस्कार, नमस्कार, आपको नमस्कार, ...   \n",
       "1  [मेरा उपयोगकर्ता है<HUMAN>, यह है<HUMAN>, मैं ...   \n",
       "2  [तुम कैसे हो?, नमस्ते क्या हालचाल है?, नमस्कार...   \n",
       "3  [धन्यवाद! यह है<HUMAN>, धन्यवाद! मैं हूं<HUMAN...   \n",
       "4  [मेरा नाम क्या है?, आप मुझे क्या कहते हैं?, आप...   \n",
       "\n",
       "                                           responses  \\\n",
       "0                            [हाय मानव, नमस्ते मानव]   \n",
       "1  [मैं अच्छा/अच्छी हूँ! हाय <HUMAN>! मैं कैसे मद...   \n",
       "2  [हैलो, मैं अच्छा हूं। धन्यवाद, आप कैसे हैं?, न...   \n",
       "3  [अच्छा! नमस्ते <HUMAN>, मैं आपकी मदद कैसे कर स...   \n",
       "4  [आप <HUMAN> रहे हैं! मैं कैसे मदद कर सकता हूं?...   \n",
       "\n",
       "                                           extension  \\\n",
       "0  {'function': '', 'entities': False, 'responses...   \n",
       "1  {'function': 'extensions.gHumans.updateHuman',...   \n",
       "2  {'function': '', 'entities': False, 'responses...   \n",
       "3  {'function': 'extensions.gHumans.updateHuman',...   \n",
       "4  {'function': 'extensions.gHumans.getCurrentHum...   \n",
       "\n",
       "                                             context entityType  \\\n",
       "0  {'in': '', 'out': 'GreetingUserRequest', 'clea...         NA   \n",
       "1  {'in': 'GreetingUserRequest', 'out': '', 'clea...         NA   \n",
       "2  {'in': '', 'out': 'CourtesyGreetingUserRequest...         NA   \n",
       "3  {'in': 'GreetingUserRequest', 'out': '', 'clea...         NA   \n",
       "4  {'in': '', 'out': 'CurrentHumanQuery', 'clear'...         NA   \n",
       "\n",
       "                                            entities  \n",
       "0                                                 []  \n",
       "1  [{'entity': 'HUMAN', 'rangeFrom': 3, 'rangeTo'...  \n",
       "2                                                 []  \n",
       "3  [{'entity': 'HUMAN', 'rangeFrom': 5, 'rangeTo'...  \n",
       "4                                                 []  "
      ]
     },
     "execution_count": 60,
     "metadata": {},
     "output_type": "execute_result"
    }
   ],
   "source": [
    "# NOW ALSO TRANSLATE TEXT AND RESPONSES\n",
    "df['responses'] = df['responses'].apply(translate)\n",
    "df['text'] = df['text'].apply(translate)\n",
    "df.head()"
   ]
  },
  {
   "cell_type": "code",
   "execution_count": 61,
   "metadata": {},
   "outputs": [],
   "source": [
    "# SAVE FINAL HINDI DATASET\n",
    "df.to_json(f'slimmed.json')"
   ]
  },
  {
   "cell_type": "code",
   "execution_count": 62,
   "metadata": {},
   "outputs": [
    {
     "data": {
      "text/html": [
       "<div>\n",
       "<style scoped>\n",
       "    .dataframe tbody tr th:only-of-type {\n",
       "        vertical-align: middle;\n",
       "    }\n",
       "\n",
       "    .dataframe tbody tr th {\n",
       "        vertical-align: top;\n",
       "    }\n",
       "\n",
       "    .dataframe thead th {\n",
       "        text-align: right;\n",
       "    }\n",
       "</style>\n",
       "<table border=\"1\" class=\"dataframe\">\n",
       "  <thead>\n",
       "    <tr style=\"text-align: right;\">\n",
       "      <th></th>\n",
       "      <th>intent</th>\n",
       "      <th>text</th>\n",
       "      <th>responses</th>\n",
       "      <th>extension</th>\n",
       "      <th>context</th>\n",
       "      <th>entityType</th>\n",
       "      <th>entities</th>\n",
       "    </tr>\n",
       "  </thead>\n",
       "  <tbody>\n",
       "    <tr>\n",
       "      <th>0</th>\n",
       "      <td>शुभकामना</td>\n",
       "      <td>[नमस्ते, आपको नमस्कार, नमस्कार, आपको नमस्कार, ...</td>\n",
       "      <td>[हाय मानव, नमस्ते मानव]</td>\n",
       "      <td>{'function': '', 'entities': False, 'responses...</td>\n",
       "      <td>{'in': '', 'out': 'GreetingUserRequest', 'clea...</td>\n",
       "      <td>NA</td>\n",
       "      <td>[]</td>\n",
       "    </tr>\n",
       "    <tr>\n",
       "      <th>1</th>\n",
       "      <td>ग्रीटिंग रिस्पांस</td>\n",
       "      <td>[मेरा उपयोगकर्ता है&lt;HUMAN&gt;, यह है&lt;HUMAN&gt;, मैं ...</td>\n",
       "      <td>[मैं अच्छा/अच्छी हूँ! हाय &lt;HUMAN&gt;! मैं कैसे मद...</td>\n",
       "      <td>{'function': 'extensions.gHumans.updateHuman',...</td>\n",
       "      <td>{'in': 'GreetingUserRequest', 'out': '', 'clea...</td>\n",
       "      <td>NA</td>\n",
       "      <td>[{'entity': 'HUMAN', 'rangeFrom': 3, 'rangeTo'...</td>\n",
       "    </tr>\n",
       "    <tr>\n",
       "      <th>2</th>\n",
       "      <td>सौजन्य अभिवादन</td>\n",
       "      <td>[तुम कैसे हो?, नमस्ते क्या हालचाल है?, नमस्कार...</td>\n",
       "      <td>[हैलो, मैं अच्छा हूं। धन्यवाद, आप कैसे हैं?, न...</td>\n",
       "      <td>{'function': '', 'entities': False, 'responses...</td>\n",
       "      <td>{'in': '', 'out': 'CourtesyGreetingUserRequest...</td>\n",
       "      <td>NA</td>\n",
       "      <td>[]</td>\n",
       "    </tr>\n",
       "    <tr>\n",
       "      <th>3</th>\n",
       "      <td>सौजन्य ग्रीटिंग रिस्पांस</td>\n",
       "      <td>[धन्यवाद! यह है&lt;HUMAN&gt;, धन्यवाद! मैं हूं&lt;HUMAN...</td>\n",
       "      <td>[अच्छा! नमस्ते &lt;HUMAN&gt;, मैं आपकी मदद कैसे कर स...</td>\n",
       "      <td>{'function': 'extensions.gHumans.updateHuman',...</td>\n",
       "      <td>{'in': 'GreetingUserRequest', 'out': '', 'clea...</td>\n",
       "      <td>NA</td>\n",
       "      <td>[{'entity': 'HUMAN', 'rangeFrom': 5, 'rangeTo'...</td>\n",
       "    </tr>\n",
       "    <tr>\n",
       "      <th>4</th>\n",
       "      <td>वर्तमान मानव क्वेरी</td>\n",
       "      <td>[मेरा नाम क्या है?, आप मुझे क्या कहते हैं?, आप...</td>\n",
       "      <td>[आप &lt;HUMAN&gt; रहे हैं! मैं कैसे मदद कर सकता हूं?...</td>\n",
       "      <td>{'function': 'extensions.gHumans.getCurrentHum...</td>\n",
       "      <td>{'in': '', 'out': 'CurrentHumanQuery', 'clear'...</td>\n",
       "      <td>NA</td>\n",
       "      <td>[]</td>\n",
       "    </tr>\n",
       "  </tbody>\n",
       "</table>\n",
       "</div>"
      ],
      "text/plain": [
       "                     intent  \\\n",
       "0                  शुभकामना   \n",
       "1         ग्रीटिंग रिस्पांस   \n",
       "2            सौजन्य अभिवादन   \n",
       "3  सौजन्य ग्रीटिंग रिस्पांस   \n",
       "4       वर्तमान मानव क्वेरी   \n",
       "\n",
       "                                                text  \\\n",
       "0  [नमस्ते, आपको नमस्कार, नमस्कार, आपको नमस्कार, ...   \n",
       "1  [मेरा उपयोगकर्ता है<HUMAN>, यह है<HUMAN>, मैं ...   \n",
       "2  [तुम कैसे हो?, नमस्ते क्या हालचाल है?, नमस्कार...   \n",
       "3  [धन्यवाद! यह है<HUMAN>, धन्यवाद! मैं हूं<HUMAN...   \n",
       "4  [मेरा नाम क्या है?, आप मुझे क्या कहते हैं?, आप...   \n",
       "\n",
       "                                           responses  \\\n",
       "0                            [हाय मानव, नमस्ते मानव]   \n",
       "1  [मैं अच्छा/अच्छी हूँ! हाय <HUMAN>! मैं कैसे मद...   \n",
       "2  [हैलो, मैं अच्छा हूं। धन्यवाद, आप कैसे हैं?, न...   \n",
       "3  [अच्छा! नमस्ते <HUMAN>, मैं आपकी मदद कैसे कर स...   \n",
       "4  [आप <HUMAN> रहे हैं! मैं कैसे मदद कर सकता हूं?...   \n",
       "\n",
       "                                           extension  \\\n",
       "0  {'function': '', 'entities': False, 'responses...   \n",
       "1  {'function': 'extensions.gHumans.updateHuman',...   \n",
       "2  {'function': '', 'entities': False, 'responses...   \n",
       "3  {'function': 'extensions.gHumans.updateHuman',...   \n",
       "4  {'function': 'extensions.gHumans.getCurrentHum...   \n",
       "\n",
       "                                             context entityType  \\\n",
       "0  {'in': '', 'out': 'GreetingUserRequest', 'clea...         NA   \n",
       "1  {'in': 'GreetingUserRequest', 'out': '', 'clea...         NA   \n",
       "2  {'in': '', 'out': 'CourtesyGreetingUserRequest...         NA   \n",
       "3  {'in': 'GreetingUserRequest', 'out': '', 'clea...         NA   \n",
       "4  {'in': '', 'out': 'CurrentHumanQuery', 'clear'...         NA   \n",
       "\n",
       "                                            entities  \n",
       "0                                                 []  \n",
       "1  [{'entity': 'HUMAN', 'rangeFrom': 3, 'rangeTo'...  \n",
       "2                                                 []  \n",
       "3  [{'entity': 'HUMAN', 'rangeFrom': 5, 'rangeTo'...  \n",
       "4                                                 []  "
      ]
     },
     "execution_count": 62,
     "metadata": {},
     "output_type": "execute_result"
    }
   ],
   "source": [
    "# READ HINDI DATASET\n",
    "hdf = pd.read_json('slimmed.json')\n",
    "hdf.head()"
   ]
  },
  {
   "cell_type": "code",
   "execution_count": 63,
   "metadata": {},
   "outputs": [
    {
     "data": {
      "text/html": [
       "<div>\n",
       "<style scoped>\n",
       "    .dataframe tbody tr th:only-of-type {\n",
       "        vertical-align: middle;\n",
       "    }\n",
       "\n",
       "    .dataframe tbody tr th {\n",
       "        vertical-align: top;\n",
       "    }\n",
       "\n",
       "    .dataframe thead th {\n",
       "        text-align: right;\n",
       "    }\n",
       "</style>\n",
       "<table border=\"1\" class=\"dataframe\">\n",
       "  <thead>\n",
       "    <tr style=\"text-align: right;\">\n",
       "      <th></th>\n",
       "      <th>intent</th>\n",
       "      <th>caption</th>\n",
       "    </tr>\n",
       "  </thead>\n",
       "  <tbody>\n",
       "    <tr>\n",
       "      <th>0</th>\n",
       "      <td>शुभकामना</td>\n",
       "      <td>नमस्ते</td>\n",
       "    </tr>\n",
       "    <tr>\n",
       "      <th>1</th>\n",
       "      <td>शुभकामना</td>\n",
       "      <td>आपको नमस्कार</td>\n",
       "    </tr>\n",
       "    <tr>\n",
       "      <th>2</th>\n",
       "      <td>शुभकामना</td>\n",
       "      <td>नमस्कार</td>\n",
       "    </tr>\n",
       "    <tr>\n",
       "      <th>3</th>\n",
       "      <td>शुभकामना</td>\n",
       "      <td>आपको नमस्कार</td>\n",
       "    </tr>\n",
       "    <tr>\n",
       "      <th>4</th>\n",
       "      <td>शुभकामना</td>\n",
       "      <td>वहां हया</td>\n",
       "    </tr>\n",
       "  </tbody>\n",
       "</table>\n",
       "</div>"
      ],
      "text/plain": [
       "     intent       caption\n",
       "0  शुभकामना        नमस्ते\n",
       "1  शुभकामना  आपको नमस्कार\n",
       "2  शुभकामना       नमस्कार\n",
       "3  शुभकामना  आपको नमस्कार\n",
       "4  शुभकामना      वहां हया"
      ]
     },
     "execution_count": 63,
     "metadata": {},
     "output_type": "execute_result"
    }
   ],
   "source": [
    "# SEPARATE CLUBBED TEXT ROWS\n",
    "intent = []\n",
    "for field in hdf.values:\n",
    "    for text in field[1]:\n",
    "        intent.append({'intent':field[0], 'caption':text})\n",
    "data = pd.DataFrame(intent)\n",
    "data.head()"
   ]
  },
  {
   "cell_type": "code",
   "execution_count": 64,
   "metadata": {},
   "outputs": [],
   "source": [
    "%%capture\n",
    "# GET EMBEDDING OF SENTENCES\n",
    "# inltk prints empty lines while encoding sentences so %%capture anulls that\n",
    "\n",
    "X = []\n",
    "for sent in data['caption']:\n",
    "    X.append(get_sentence_encoding(sent,'hi'))"
   ]
  },
  {
   "cell_type": "code",
   "execution_count": 65,
   "metadata": {},
   "outputs": [
    {
     "data": {
      "text/plain": [
       "(103, 400)"
      ]
     },
     "execution_count": 65,
     "metadata": {},
     "output_type": "execute_result"
    }
   ],
   "source": [
    "X = np.array(X)\n",
    "X.shape"
   ]
  },
  {
   "cell_type": "code",
   "execution_count": 66,
   "metadata": {},
   "outputs": [
    {
     "data": {
      "text/plain": [
       "(103, 17)"
      ]
     },
     "execution_count": 66,
     "metadata": {},
     "output_type": "execute_result"
    }
   ],
   "source": [
    "# ONE HOT ENCODE LABELS FOR USE IN MODEL\n",
    "ohe = OneHotEncoder()\n",
    "le = LabelEncoder()\n",
    "intents = le.fit_transform(data['intent'])\n",
    "intents = intents.reshape(-1,1)\n",
    "intents = ohe.fit_transform(intents).toarray()\n",
    "intents.shape"
   ]
  },
  {
   "cell_type": "code",
   "execution_count": 67,
   "metadata": {},
   "outputs": [],
   "source": [
    "with open('pickles/ohe', 'wb+') as handle:\n",
    "    pickle.dump(ohe, handle)\n",
    "with open('pickles/le', 'wb+') as handle:\n",
    "    pickle.dump(le, handle)"
   ]
  },
  {
   "cell_type": "code",
   "execution_count": 68,
   "metadata": {},
   "outputs": [
    {
     "data": {
      "text/plain": [
       "(103, 1, 400)"
      ]
     },
     "execution_count": 68,
     "metadata": {},
     "output_type": "execute_result"
    }
   ],
   "source": [
    "X = X.reshape(len(X),1,X.shape[1])\n",
    "X.shape"
   ]
  },
  {
   "cell_type": "code",
   "execution_count": 69,
   "metadata": {},
   "outputs": [],
   "source": [
    "X, y = shuffle(X, intents)"
   ]
  },
  {
   "cell_type": "code",
   "execution_count": 70,
   "metadata": {},
   "outputs": [
    {
     "name": "stdout",
     "output_type": "stream",
     "text": [
      "Model: \"sequential_4\"\n",
      "_________________________________________________________________\n",
      "Layer (type)                 Output Shape              Param #   \n",
      "=================================================================\n",
      "bidirectional_4 (Bidirection (None, 256)               541696    \n",
      "_________________________________________________________________\n",
      "dropout_4 (Dropout)          (None, 256)               0         \n",
      "_________________________________________________________________\n",
      "dense_4 (Dense)              (None, 17)                4369      \n",
      "=================================================================\n",
      "Total params: 546,065\n",
      "Trainable params: 546,065\n",
      "Non-trainable params: 0\n",
      "_________________________________________________________________\n"
     ]
    }
   ],
   "source": [
    "# BUILD MODEL\n",
    "model = Sequential()\n",
    "model.add(Bidirectional(LSTM(128), input_shape=(1, 400)))\n",
    "model.add(Dropout(0.8))\n",
    "model.add(Dense(intents.shape[1], activation = \"softmax\"))\n",
    "model.compile(loss = \"categorical_crossentropy\", optimizer = \"adam\", metrics = [\"accuracy\"])\n",
    "model.summary()"
   ]
  },
  {
   "cell_type": "code",
   "execution_count": 71,
   "metadata": {},
   "outputs": [
    {
     "name": "stdout",
     "output_type": "stream",
     "text": [
      "\n",
      "Epoch 00001: val_accuracy improved from -inf to 0.18182, saving model to weights.best.hdf5\n",
      "\n",
      "Epoch 00002: val_accuracy improved from 0.18182 to 0.36364, saving model to weights.best.hdf5\n",
      "\n",
      "Epoch 00003: val_accuracy did not improve from 0.36364\n",
      "\n",
      "Epoch 00004: val_accuracy did not improve from 0.36364\n",
      "\n",
      "Epoch 00005: val_accuracy did not improve from 0.36364\n",
      "\n",
      "Epoch 00006: val_accuracy did not improve from 0.36364\n",
      "\n",
      "Epoch 00007: val_accuracy did not improve from 0.36364\n",
      "\n",
      "Epoch 00008: val_accuracy did not improve from 0.36364\n",
      "\n",
      "Epoch 00009: val_accuracy improved from 0.36364 to 0.45455, saving model to weights.best.hdf5\n",
      "\n",
      "Epoch 00010: val_accuracy did not improve from 0.45455\n",
      "\n",
      "Epoch 00011: val_accuracy did not improve from 0.45455\n",
      "\n",
      "Epoch 00012: val_accuracy did not improve from 0.45455\n",
      "\n",
      "Epoch 00013: val_accuracy did not improve from 0.45455\n",
      "\n",
      "Epoch 00014: val_accuracy did not improve from 0.45455\n",
      "\n",
      "Epoch 00015: val_accuracy improved from 0.45455 to 0.54545, saving model to weights.best.hdf5\n",
      "\n",
      "Epoch 00016: val_accuracy did not improve from 0.54545\n",
      "\n",
      "Epoch 00017: val_accuracy did not improve from 0.54545\n",
      "\n",
      "Epoch 00018: val_accuracy improved from 0.54545 to 0.63636, saving model to weights.best.hdf5\n",
      "\n",
      "Epoch 00019: val_accuracy did not improve from 0.63636\n",
      "\n",
      "Epoch 00020: val_accuracy did not improve from 0.63636\n",
      "\n",
      "Epoch 00021: val_accuracy did not improve from 0.63636\n",
      "\n",
      "Epoch 00022: val_accuracy did not improve from 0.63636\n",
      "\n",
      "Epoch 00023: val_accuracy did not improve from 0.63636\n",
      "\n",
      "Epoch 00024: val_accuracy improved from 0.63636 to 0.72727, saving model to weights.best.hdf5\n",
      "\n",
      "Epoch 00025: val_accuracy did not improve from 0.72727\n",
      "\n",
      "Epoch 00026: val_accuracy did not improve from 0.72727\n",
      "\n",
      "Epoch 00027: val_accuracy did not improve from 0.72727\n",
      "\n",
      "Epoch 00028: val_accuracy did not improve from 0.72727\n",
      "\n",
      "Epoch 00029: val_accuracy did not improve from 0.72727\n",
      "\n",
      "Epoch 00030: val_accuracy did not improve from 0.72727\n",
      "\n",
      "Epoch 00031: val_accuracy improved from 0.72727 to 0.81818, saving model to weights.best.hdf5\n",
      "\n",
      "Epoch 00032: val_accuracy did not improve from 0.81818\n",
      "\n",
      "Epoch 00033: val_accuracy did not improve from 0.81818\n",
      "\n",
      "Epoch 00034: val_accuracy did not improve from 0.81818\n",
      "\n",
      "Epoch 00035: val_accuracy did not improve from 0.81818\n",
      "\n",
      "Epoch 00036: val_accuracy did not improve from 0.81818\n",
      "\n",
      "Epoch 00037: val_accuracy did not improve from 0.81818\n",
      "\n",
      "Epoch 00038: val_accuracy did not improve from 0.81818\n",
      "\n",
      "Epoch 00039: val_accuracy did not improve from 0.81818\n",
      "\n",
      "Epoch 00040: val_accuracy did not improve from 0.81818\n",
      "\n",
      "Epoch 00041: val_accuracy did not improve from 0.81818\n",
      "\n",
      "Epoch 00042: val_accuracy did not improve from 0.81818\n",
      "\n",
      "Epoch 00043: val_accuracy did not improve from 0.81818\n",
      "\n",
      "Epoch 00044: val_accuracy did not improve from 0.81818\n",
      "\n",
      "Epoch 00045: val_accuracy did not improve from 0.81818\n",
      "\n",
      "Epoch 00046: val_accuracy did not improve from 0.81818\n",
      "\n",
      "Epoch 00047: val_accuracy did not improve from 0.81818\n",
      "\n",
      "Epoch 00048: val_accuracy did not improve from 0.81818\n",
      "\n",
      "Epoch 00049: val_accuracy did not improve from 0.81818\n",
      "\n",
      "Epoch 00050: val_accuracy did not improve from 0.81818\n",
      "\n",
      "Epoch 00051: val_accuracy did not improve from 0.81818\n",
      "\n",
      "Epoch 00052: val_accuracy did not improve from 0.81818\n"
     ]
    }
   ],
   "source": [
    "# TRAIN MODEL\n",
    "filepath = \"weights.best.hdf5\"\n",
    "cp_callback = ModelCheckpoint(filepath, monitor='val_accuracy', verbose=1, save_best_only=True, mode='max')\n",
    "es_callback = EarlyStopping(monitor='val_loss', patience=5)\n",
    "history = model.fit(X, y,\n",
    "                    epochs=100, \n",
    "                    validation_split=0.1,\n",
    "                    batch_size=11,\n",
    "                    verbose=0,\n",
    "                    callbacks=[es_callback,cp_callback]\n",
    "                   )"
   ]
  },
  {
   "cell_type": "code",
   "execution_count": 72,
   "metadata": {},
   "outputs": [
    {
     "data": {
      "image/png": "[encoded data removed]",
      "text/plain": [
       "<Figure size 432x288 with 1 Axes>"
      ]
     },
     "metadata": {
      "needs_background": "light"
     },
     "output_type": "display_data"
    },
    {
     "data": {
      "image/png": "[encoded data removed]",
      "text/plain": [
       "<Figure size 432x288 with 1 Axes>"
      ]
     },
     "metadata": {
      "needs_background": "light"
     },
     "output_type": "display_data"
    }
   ],
   "source": [
    "# PLOT TRAINING HISTORY\n",
    "\n",
    "def plot_graphs(history, string):\n",
    "  plt.plot(history.history[string])\n",
    "  plt.plot(history.history['val_'+string])\n",
    "  plt.xlabel(\"Epochs\")\n",
    "  plt.ylabel(string)\n",
    "  plt.legend([string, 'val_'+string])\n",
    "  plt.show()\n",
    "  \n",
    "plot_graphs(history, \"accuracy\")\n",
    "plot_graphs(history, \"loss\")"
   ]
  },
  {
   "cell_type": "code",
   "execution_count": 76,
   "metadata": {},
   "outputs": [],
   "source": [
    "# LOAD BEST WEIGHTS STORED DURING TRAINING\n",
    "model.load_weights(\"weights.best.hdf5\")"
   ]
  },
  {
   "cell_type": "code",
   "execution_count": 77,
   "metadata": {},
   "outputs": [
    {
     "name": "stdout",
     "output_type": "stream",
     "text": [
      "INFO:tensorflow:Assets written to: model/assets\n"
     ]
    }
   ],
   "source": [
    "model.save('model')"
   ]
  },
  {
   "cell_type": "code",
   "execution_count": 75,
   "metadata": {},
   "outputs": [],
   "source": [
    "import pyttsx3\n",
    "reader = pyttsx3.init()\n",
    "# print(list(map(lambda x: [x.id,x.gender]+x.languages, reader.getProperty('voices'))))\n",
    "\n",
    "def say(text):\n",
    "    for voice in reader.getProperty('voices'):\n",
    "        if voice.languages[0]=='hi_IN' and voice.gender=='VoiceGenderFemale':\n",
    "            reader.setProperty('voice', voice.id)\n",
    "            reader.say(text)\n",
    "            reader.runAndWait()\n",
    "            reader.stop()\n",
    "\n",
    "say('हेलो कैसे हो बेटा')"
   ]
  },
  {
   "cell_type": "code",
   "execution_count": 24,
   "metadata": {},
   "outputs": [],
   "source": [
    "import keras\n",
    "model = keras.models.load_model('model')"
   ]
  },
  {
   "cell_type": "code",
   "execution_count": 25,
   "metadata": {},
   "outputs": [],
   "source": [
    "import pickle\n",
    "with open('pickles/ohe', 'rb') as handle:\n",
    "    ohe = pickle.load(handle)\n",
    "with open('pickles/le', 'rb') as handle:\n",
    "    le = pickle.load(handle)"
   ]
  },
  {
   "cell_type": "code",
   "execution_count": 26,
   "metadata": {},
   "outputs": [
    {
     "name": "stdout",
     "output_type": "stream",
     "text": [
      "Enter message: \n",
      "Bot input: \n"
     ]
    },
    {
     "data": {
      "text/html": [],
      "text/plain": [
       "<IPython.core.display.HTML object>"
      ]
     },
     "metadata": {},
     "output_type": "display_data"
    },
    {
     "data": {
      "text/html": [],
      "text/plain": [
       "<IPython.core.display.HTML object>"
      ]
     },
     "metadata": {},
     "output_type": "display_data"
    },
    {
     "ename": "RuntimeError",
     "evalue": "stack expects a non-empty TensorList",
     "output_type": "error",
     "traceback": [
      "\u001b[0;31m---------------------------------------------------------------------------\u001b[0m",
      "\u001b[0;31mRuntimeError\u001b[0m                              Traceback (most recent call last)",
      "\u001b[0;32m<ipython-input-26-e536365144e1>\u001b[0m in \u001b[0;36m<module>\u001b[0;34m\u001b[0m\n\u001b[1;32m      3\u001b[0m \u001b[0mprint\u001b[0m\u001b[0;34m(\u001b[0m\u001b[0;34m'Bot input:'\u001b[0m\u001b[0;34m,\u001b[0m \u001b[0mmessage\u001b[0m\u001b[0;34m)\u001b[0m\u001b[0;34m\u001b[0m\u001b[0;34m\u001b[0m\u001b[0m\n\u001b[1;32m      4\u001b[0m \u001b[0;34m\u001b[0m\u001b[0m\n\u001b[0;32m----> 5\u001b[0;31m \u001b[0mencoding\u001b[0m \u001b[0;34m=\u001b[0m \u001b[0mget_sentence_encoding\u001b[0m\u001b[0;34m(\u001b[0m\u001b[0mmessage\u001b[0m\u001b[0;34m,\u001b[0m\u001b[0;34m'hi'\u001b[0m\u001b[0;34m)\u001b[0m\u001b[0;34m.\u001b[0m\u001b[0mreshape\u001b[0m\u001b[0;34m(\u001b[0m\u001b[0;36m1\u001b[0m\u001b[0;34m,\u001b[0m\u001b[0;36m1\u001b[0m\u001b[0;34m,\u001b[0m\u001b[0;36m400\u001b[0m\u001b[0;34m)\u001b[0m\u001b[0;34m\u001b[0m\u001b[0;34m\u001b[0m\u001b[0m\n\u001b[0m\u001b[1;32m      6\u001b[0m \u001b[0mresult\u001b[0m \u001b[0;34m=\u001b[0m \u001b[0mohe\u001b[0m\u001b[0;34m.\u001b[0m\u001b[0minverse_transform\u001b[0m\u001b[0;34m(\u001b[0m\u001b[0mmodel\u001b[0m\u001b[0;34m.\u001b[0m\u001b[0mpredict\u001b[0m\u001b[0;34m(\u001b[0m\u001b[0mencoding\u001b[0m\u001b[0;34m)\u001b[0m\u001b[0;34m)\u001b[0m\u001b[0;34m\u001b[0m\u001b[0;34m\u001b[0m\u001b[0m\n\u001b[1;32m      7\u001b[0m \u001b[0mresult\u001b[0m \u001b[0;34m=\u001b[0m \u001b[0mle\u001b[0m\u001b[0;34m.\u001b[0m\u001b[0minverse_transform\u001b[0m\u001b[0;34m(\u001b[0m\u001b[0mresult\u001b[0m\u001b[0;34m)\u001b[0m\u001b[0;34m[\u001b[0m\u001b[0;36m0\u001b[0m\u001b[0;34m]\u001b[0m\u001b[0;34m\u001b[0m\u001b[0;34m\u001b[0m\u001b[0m\n",
      "\u001b[0;32m/usr/local/lib/python3.7/site-packages/inltk/inltk.py\u001b[0m in \u001b[0;36mget_sentence_encoding\u001b[0;34m(input, language_code)\u001b[0m\n\u001b[1;32m    119\u001b[0m     \u001b[0mencoder\u001b[0m \u001b[0;34m=\u001b[0m \u001b[0mlearn\u001b[0m\u001b[0;34m.\u001b[0m\u001b[0mmodel\u001b[0m\u001b[0;34m[\u001b[0m\u001b[0;36m0\u001b[0m\u001b[0;34m]\u001b[0m\u001b[0;34m\u001b[0m\u001b[0;34m\u001b[0m\u001b[0m\n\u001b[1;32m    120\u001b[0m     \u001b[0mencoder\u001b[0m\u001b[0;34m.\u001b[0m\u001b[0mreset\u001b[0m\u001b[0;34m(\u001b[0m\u001b[0;34m)\u001b[0m\u001b[0;34m\u001b[0m\u001b[0;34m\u001b[0m\u001b[0m\n\u001b[0;32m--> 121\u001b[0;31m     \u001b[0mkk0\u001b[0m \u001b[0;34m=\u001b[0m \u001b[0mencoder\u001b[0m\u001b[0;34m(\u001b[0m\u001b[0mTensor\u001b[0m\u001b[0;34m(\u001b[0m\u001b[0;34m[\u001b[0m\u001b[0mtoken_ids\u001b[0m\u001b[0;34m]\u001b[0m\u001b[0;34m)\u001b[0m\u001b[0;34m.\u001b[0m\u001b[0mto\u001b[0m\u001b[0;34m(\u001b[0m\u001b[0mtorch\u001b[0m\u001b[0;34m.\u001b[0m\u001b[0mint64\u001b[0m\u001b[0;34m)\u001b[0m\u001b[0;34m)\u001b[0m\u001b[0;34m\u001b[0m\u001b[0;34m\u001b[0m\u001b[0m\n\u001b[0m\u001b[1;32m    122\u001b[0m     \u001b[0;32mreturn\u001b[0m \u001b[0mnp\u001b[0m\u001b[0;34m.\u001b[0m\u001b[0marray\u001b[0m\u001b[0;34m(\u001b[0m\u001b[0mkk0\u001b[0m\u001b[0;34m[\u001b[0m\u001b[0;36m0\u001b[0m\u001b[0;34m]\u001b[0m\u001b[0;34m[\u001b[0m\u001b[0;34m-\u001b[0m\u001b[0;36m1\u001b[0m\u001b[0;34m]\u001b[0m\u001b[0;34m[\u001b[0m\u001b[0;36m0\u001b[0m\u001b[0;34m]\u001b[0m\u001b[0;34m[\u001b[0m\u001b[0;34m-\u001b[0m\u001b[0;36m1\u001b[0m\u001b[0;34m]\u001b[0m\u001b[0;34m)\u001b[0m\u001b[0;34m\u001b[0m\u001b[0;34m\u001b[0m\u001b[0m\n\u001b[1;32m    123\u001b[0m \u001b[0;34m\u001b[0m\u001b[0m\n",
      "\u001b[0;32m/usr/local/lib/python3.7/site-packages/torch/nn/modules/module.py\u001b[0m in \u001b[0;36m__call__\u001b[0;34m(self, *input, **kwargs)\u001b[0m\n\u001b[1;32m    539\u001b[0m             \u001b[0mresult\u001b[0m \u001b[0;34m=\u001b[0m \u001b[0mself\u001b[0m\u001b[0;34m.\u001b[0m\u001b[0m_slow_forward\u001b[0m\u001b[0;34m(\u001b[0m\u001b[0;34m*\u001b[0m\u001b[0minput\u001b[0m\u001b[0;34m,\u001b[0m \u001b[0;34m**\u001b[0m\u001b[0mkwargs\u001b[0m\u001b[0;34m)\u001b[0m\u001b[0;34m\u001b[0m\u001b[0;34m\u001b[0m\u001b[0m\n\u001b[1;32m    540\u001b[0m         \u001b[0;32melse\u001b[0m\u001b[0;34m:\u001b[0m\u001b[0;34m\u001b[0m\u001b[0;34m\u001b[0m\u001b[0m\n\u001b[0;32m--> 541\u001b[0;31m             \u001b[0mresult\u001b[0m \u001b[0;34m=\u001b[0m \u001b[0mself\u001b[0m\u001b[0;34m.\u001b[0m\u001b[0mforward\u001b[0m\u001b[0;34m(\u001b[0m\u001b[0;34m*\u001b[0m\u001b[0minput\u001b[0m\u001b[0;34m,\u001b[0m \u001b[0;34m**\u001b[0m\u001b[0mkwargs\u001b[0m\u001b[0;34m)\u001b[0m\u001b[0;34m\u001b[0m\u001b[0;34m\u001b[0m\u001b[0m\n\u001b[0m\u001b[1;32m    542\u001b[0m         \u001b[0;32mfor\u001b[0m \u001b[0mhook\u001b[0m \u001b[0;32min\u001b[0m \u001b[0mself\u001b[0m\u001b[0;34m.\u001b[0m\u001b[0m_forward_hooks\u001b[0m\u001b[0;34m.\u001b[0m\u001b[0mvalues\u001b[0m\u001b[0;34m(\u001b[0m\u001b[0;34m)\u001b[0m\u001b[0;34m:\u001b[0m\u001b[0;34m\u001b[0m\u001b[0;34m\u001b[0m\u001b[0m\n\u001b[1;32m    543\u001b[0m             \u001b[0mhook_result\u001b[0m \u001b[0;34m=\u001b[0m \u001b[0mhook\u001b[0m\u001b[0;34m(\u001b[0m\u001b[0mself\u001b[0m\u001b[0;34m,\u001b[0m \u001b[0minput\u001b[0m\u001b[0;34m,\u001b[0m \u001b[0mresult\u001b[0m\u001b[0;34m)\u001b[0m\u001b[0;34m\u001b[0m\u001b[0;34m\u001b[0m\u001b[0m\n",
      "\u001b[0;32m/usr/local/lib/python3.7/site-packages/fastai/text/models/awd_lstm.py\u001b[0m in \u001b[0;36mforward\u001b[0;34m(self, input, from_embeddings)\u001b[0m\n\u001b[1;32m    110\u001b[0m         \u001b[0mnew_hidden\u001b[0m\u001b[0;34m,\u001b[0m\u001b[0mraw_outputs\u001b[0m\u001b[0;34m,\u001b[0m\u001b[0moutputs\u001b[0m \u001b[0;34m=\u001b[0m \u001b[0;34m[\u001b[0m\u001b[0;34m]\u001b[0m\u001b[0;34m,\u001b[0m\u001b[0;34m[\u001b[0m\u001b[0;34m]\u001b[0m\u001b[0;34m,\u001b[0m\u001b[0;34m[\u001b[0m\u001b[0;34m]\u001b[0m\u001b[0;34m\u001b[0m\u001b[0;34m\u001b[0m\u001b[0m\n\u001b[1;32m    111\u001b[0m         \u001b[0;32mfor\u001b[0m \u001b[0ml\u001b[0m\u001b[0;34m,\u001b[0m \u001b[0;34m(\u001b[0m\u001b[0mrnn\u001b[0m\u001b[0;34m,\u001b[0m\u001b[0mhid_dp\u001b[0m\u001b[0;34m)\u001b[0m \u001b[0;32min\u001b[0m \u001b[0menumerate\u001b[0m\u001b[0;34m(\u001b[0m\u001b[0mzip\u001b[0m\u001b[0;34m(\u001b[0m\u001b[0mself\u001b[0m\u001b[0;34m.\u001b[0m\u001b[0mrnns\u001b[0m\u001b[0;34m,\u001b[0m \u001b[0mself\u001b[0m\u001b[0;34m.\u001b[0m\u001b[0mhidden_dps\u001b[0m\u001b[0;34m)\u001b[0m\u001b[0;34m)\u001b[0m\u001b[0;34m:\u001b[0m\u001b[0;34m\u001b[0m\u001b[0;34m\u001b[0m\u001b[0m\n\u001b[0;32m--> 112\u001b[0;31m             \u001b[0mraw_output\u001b[0m\u001b[0;34m,\u001b[0m \u001b[0mnew_h\u001b[0m \u001b[0;34m=\u001b[0m \u001b[0mrnn\u001b[0m\u001b[0;34m(\u001b[0m\u001b[0mraw_output\u001b[0m\u001b[0;34m,\u001b[0m \u001b[0mself\u001b[0m\u001b[0;34m.\u001b[0m\u001b[0mhidden\u001b[0m\u001b[0;34m[\u001b[0m\u001b[0ml\u001b[0m\u001b[0;34m]\u001b[0m\u001b[0;34m)\u001b[0m\u001b[0;34m\u001b[0m\u001b[0;34m\u001b[0m\u001b[0m\n\u001b[0m\u001b[1;32m    113\u001b[0m             \u001b[0mnew_hidden\u001b[0m\u001b[0;34m.\u001b[0m\u001b[0mappend\u001b[0m\u001b[0;34m(\u001b[0m\u001b[0mnew_h\u001b[0m\u001b[0;34m)\u001b[0m\u001b[0;34m\u001b[0m\u001b[0;34m\u001b[0m\u001b[0m\n\u001b[1;32m    114\u001b[0m             \u001b[0mraw_outputs\u001b[0m\u001b[0;34m.\u001b[0m\u001b[0mappend\u001b[0m\u001b[0;34m(\u001b[0m\u001b[0mraw_output\u001b[0m\u001b[0;34m)\u001b[0m\u001b[0;34m\u001b[0m\u001b[0;34m\u001b[0m\u001b[0m\n",
      "\u001b[0;32m/usr/local/lib/python3.7/site-packages/torch/nn/modules/module.py\u001b[0m in \u001b[0;36m__call__\u001b[0;34m(self, *input, **kwargs)\u001b[0m\n\u001b[1;32m    539\u001b[0m             \u001b[0mresult\u001b[0m \u001b[0;34m=\u001b[0m \u001b[0mself\u001b[0m\u001b[0;34m.\u001b[0m\u001b[0m_slow_forward\u001b[0m\u001b[0;34m(\u001b[0m\u001b[0;34m*\u001b[0m\u001b[0minput\u001b[0m\u001b[0;34m,\u001b[0m \u001b[0;34m**\u001b[0m\u001b[0mkwargs\u001b[0m\u001b[0;34m)\u001b[0m\u001b[0;34m\u001b[0m\u001b[0;34m\u001b[0m\u001b[0m\n\u001b[1;32m    540\u001b[0m         \u001b[0;32melse\u001b[0m\u001b[0;34m:\u001b[0m\u001b[0;34m\u001b[0m\u001b[0;34m\u001b[0m\u001b[0m\n\u001b[0;32m--> 541\u001b[0;31m             \u001b[0mresult\u001b[0m \u001b[0;34m=\u001b[0m \u001b[0mself\u001b[0m\u001b[0;34m.\u001b[0m\u001b[0mforward\u001b[0m\u001b[0;34m(\u001b[0m\u001b[0;34m*\u001b[0m\u001b[0minput\u001b[0m\u001b[0;34m,\u001b[0m \u001b[0;34m**\u001b[0m\u001b[0mkwargs\u001b[0m\u001b[0;34m)\u001b[0m\u001b[0;34m\u001b[0m\u001b[0;34m\u001b[0m\u001b[0m\n\u001b[0m\u001b[1;32m    542\u001b[0m         \u001b[0;32mfor\u001b[0m \u001b[0mhook\u001b[0m \u001b[0;32min\u001b[0m \u001b[0mself\u001b[0m\u001b[0;34m.\u001b[0m\u001b[0m_forward_hooks\u001b[0m\u001b[0;34m.\u001b[0m\u001b[0mvalues\u001b[0m\u001b[0;34m(\u001b[0m\u001b[0;34m)\u001b[0m\u001b[0;34m:\u001b[0m\u001b[0;34m\u001b[0m\u001b[0;34m\u001b[0m\u001b[0m\n\u001b[1;32m    543\u001b[0m             \u001b[0mhook_result\u001b[0m \u001b[0;34m=\u001b[0m \u001b[0mhook\u001b[0m\u001b[0;34m(\u001b[0m\u001b[0mself\u001b[0m\u001b[0;34m,\u001b[0m \u001b[0minput\u001b[0m\u001b[0;34m,\u001b[0m \u001b[0mresult\u001b[0m\u001b[0;34m)\u001b[0m\u001b[0;34m\u001b[0m\u001b[0;34m\u001b[0m\u001b[0m\n",
      "\u001b[0;32m/usr/local/lib/python3.7/site-packages/fastai/text/models/awd_lstm.py\u001b[0m in \u001b[0;36mforward\u001b[0;34m(self, *args)\u001b[0m\n\u001b[1;32m     47\u001b[0m             \u001b[0;31m#To avoid the warning that comes because the weights aren't flattened.\u001b[0m\u001b[0;34m\u001b[0m\u001b[0;34m\u001b[0m\u001b[0;34m\u001b[0m\u001b[0m\n\u001b[1;32m     48\u001b[0m             \u001b[0mwarnings\u001b[0m\u001b[0;34m.\u001b[0m\u001b[0msimplefilter\u001b[0m\u001b[0;34m(\u001b[0m\u001b[0;34m\"ignore\"\u001b[0m\u001b[0;34m)\u001b[0m\u001b[0;34m\u001b[0m\u001b[0;34m\u001b[0m\u001b[0m\n\u001b[0;32m---> 49\u001b[0;31m             \u001b[0;32mreturn\u001b[0m \u001b[0mself\u001b[0m\u001b[0;34m.\u001b[0m\u001b[0mmodule\u001b[0m\u001b[0;34m.\u001b[0m\u001b[0mforward\u001b[0m\u001b[0;34m(\u001b[0m\u001b[0;34m*\u001b[0m\u001b[0margs\u001b[0m\u001b[0;34m)\u001b[0m\u001b[0;34m\u001b[0m\u001b[0;34m\u001b[0m\u001b[0m\n\u001b[0m\u001b[1;32m     50\u001b[0m \u001b[0;34m\u001b[0m\u001b[0m\n\u001b[1;32m     51\u001b[0m     \u001b[0;32mdef\u001b[0m \u001b[0mreset\u001b[0m\u001b[0;34m(\u001b[0m\u001b[0mself\u001b[0m\u001b[0;34m)\u001b[0m\u001b[0;34m:\u001b[0m\u001b[0;34m\u001b[0m\u001b[0;34m\u001b[0m\u001b[0m\n",
      "\u001b[0;32m/usr/local/lib/python3.7/site-packages/torch/nn/modules/rnn.py\u001b[0m in \u001b[0;36mforward\u001b[0;34m(self, input, hx)\u001b[0m\n\u001b[1;32m    562\u001b[0m             \u001b[0;32mreturn\u001b[0m \u001b[0mself\u001b[0m\u001b[0;34m.\u001b[0m\u001b[0mforward_packed\u001b[0m\u001b[0;34m(\u001b[0m\u001b[0minput\u001b[0m\u001b[0;34m,\u001b[0m \u001b[0mhx\u001b[0m\u001b[0;34m)\u001b[0m\u001b[0;34m\u001b[0m\u001b[0;34m\u001b[0m\u001b[0m\n\u001b[1;32m    563\u001b[0m         \u001b[0;32melse\u001b[0m\u001b[0;34m:\u001b[0m\u001b[0;34m\u001b[0m\u001b[0;34m\u001b[0m\u001b[0m\n\u001b[0;32m--> 564\u001b[0;31m             \u001b[0;32mreturn\u001b[0m \u001b[0mself\u001b[0m\u001b[0;34m.\u001b[0m\u001b[0mforward_tensor\u001b[0m\u001b[0;34m(\u001b[0m\u001b[0minput\u001b[0m\u001b[0;34m,\u001b[0m \u001b[0mhx\u001b[0m\u001b[0;34m)\u001b[0m\u001b[0;34m\u001b[0m\u001b[0;34m\u001b[0m\u001b[0m\n\u001b[0m\u001b[1;32m    565\u001b[0m \u001b[0;34m\u001b[0m\u001b[0m\n\u001b[1;32m    566\u001b[0m \u001b[0;34m\u001b[0m\u001b[0m\n",
      "\u001b[0;32m/usr/local/lib/python3.7/site-packages/torch/nn/modules/rnn.py\u001b[0m in \u001b[0;36mforward_tensor\u001b[0;34m(self, input, hx)\u001b[0m\n\u001b[1;32m    541\u001b[0m         \u001b[0munsorted_indices\u001b[0m \u001b[0;34m=\u001b[0m \u001b[0;32mNone\u001b[0m\u001b[0;34m\u001b[0m\u001b[0;34m\u001b[0m\u001b[0m\n\u001b[1;32m    542\u001b[0m \u001b[0;34m\u001b[0m\u001b[0m\n\u001b[0;32m--> 543\u001b[0;31m         \u001b[0moutput\u001b[0m\u001b[0;34m,\u001b[0m \u001b[0mhidden\u001b[0m \u001b[0;34m=\u001b[0m \u001b[0mself\u001b[0m\u001b[0;34m.\u001b[0m\u001b[0mforward_impl\u001b[0m\u001b[0;34m(\u001b[0m\u001b[0minput\u001b[0m\u001b[0;34m,\u001b[0m \u001b[0mhx\u001b[0m\u001b[0;34m,\u001b[0m \u001b[0mbatch_sizes\u001b[0m\u001b[0;34m,\u001b[0m \u001b[0mmax_batch_size\u001b[0m\u001b[0;34m,\u001b[0m \u001b[0msorted_indices\u001b[0m\u001b[0;34m)\u001b[0m\u001b[0;34m\u001b[0m\u001b[0;34m\u001b[0m\u001b[0m\n\u001b[0m\u001b[1;32m    544\u001b[0m \u001b[0;34m\u001b[0m\u001b[0m\n\u001b[1;32m    545\u001b[0m         \u001b[0;32mreturn\u001b[0m \u001b[0moutput\u001b[0m\u001b[0;34m,\u001b[0m \u001b[0mself\u001b[0m\u001b[0;34m.\u001b[0m\u001b[0mpermute_hidden\u001b[0m\u001b[0;34m(\u001b[0m\u001b[0mhidden\u001b[0m\u001b[0;34m,\u001b[0m \u001b[0munsorted_indices\u001b[0m\u001b[0;34m)\u001b[0m\u001b[0;34m\u001b[0m\u001b[0;34m\u001b[0m\u001b[0m\n",
      "\u001b[0;32m/usr/local/lib/python3.7/site-packages/torch/nn/modules/rnn.py\u001b[0m in \u001b[0;36mforward_impl\u001b[0;34m(self, input, hx, batch_sizes, max_batch_size, sorted_indices)\u001b[0m\n\u001b[1;32m    524\u001b[0m         \u001b[0;32mif\u001b[0m \u001b[0mbatch_sizes\u001b[0m \u001b[0;32mis\u001b[0m \u001b[0;32mNone\u001b[0m\u001b[0;34m:\u001b[0m\u001b[0;34m\u001b[0m\u001b[0;34m\u001b[0m\u001b[0m\n\u001b[1;32m    525\u001b[0m             result = _VF.lstm(input, hx, self._get_flat_weights(), self.bias, self.num_layers,\n\u001b[0;32m--> 526\u001b[0;31m                               self.dropout, self.training, self.bidirectional, self.batch_first)\n\u001b[0m\u001b[1;32m    527\u001b[0m         \u001b[0;32melse\u001b[0m\u001b[0;34m:\u001b[0m\u001b[0;34m\u001b[0m\u001b[0;34m\u001b[0m\u001b[0m\n\u001b[1;32m    528\u001b[0m             result = _VF.lstm(input, batch_sizes, hx, self._get_flat_weights(), self.bias,\n",
      "\u001b[0;31mRuntimeError\u001b[0m: stack expects a non-empty TensorList"
     ]
    }
   ],
   "source": [
    "# CHATBOT DEMO RUN\n",
    "message = translate(input(\"Enter message: \"))\n",
    "print('Bot input:', message)\n",
    "\n",
    "encoding = get_sentence_encoding(message,'hi').reshape(1,1,400)\n",
    "result = ohe.inverse_transform(model.predict(encoding))\n",
    "result = le.inverse_transform(result)[0]\n",
    "choices = hdf[hdf['intent']==result]['responses'].to_list()[0]\n",
    "response = random.choice(choices)\n",
    "\n",
    "say(response)\n",
    "print(response)"
   ]
  },
  {
   "cell_type": "code",
   "execution_count": null,
   "metadata": {},
   "outputs": [],
   "source": []
  }
 ],
 "metadata": {
  "kernelspec": {
   "display_name": "Python 3",
   "language": "python",
   "name": "python3"
  },
  "language_info": {
   "codemirror_mode": {
    "name": "ipython",
    "version": 3
   },
   "file_extension": ".py",
   "mimetype": "text/x-python",
   "name": "python",
   "nbconvert_exporter": "python",
   "pygments_lexer": "ipython3",
   "version": "3.7.10"
  }
 },
 "nbformat": 4,
 "nbformat_minor": 2
}
