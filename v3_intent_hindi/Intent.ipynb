{
 "cells": [
  {
   "cell_type": "code",
   "execution_count": 8,
   "metadata": {},
   "outputs": [],
   "source": [
    "import os\n",
    "import requests\n",
    "import json\n",
    "import re\n",
    "import pyttsx3\n",
    "import random\n",
    "import pickle\n",
    "\n",
    "import matplotlib.pyplot as plt\n",
    "import pandas as pd\n",
    "import numpy as np\n",
    "\n",
    "from inltk.inltk import get_sentence_encoding\n",
    "from sklearn.utils import shuffle\n",
    "\n",
    "from sklearn.preprocessing import LabelEncoder\n",
    "from sklearn.preprocessing import OneHotEncoder\n",
    "from sklearn.model_selection import train_test_split\n",
    "\n",
    "from keras.models import Sequential, load_model\n",
    "from keras.layers import Dense, LSTM, Bidirectional, Dropout\n",
    "from keras.callbacks import EarlyStopping \n",
    "from keras.callbacks import ModelCheckpoint"
   ]
  },
  {
   "cell_type": "code",
   "execution_count": 4,
   "metadata": {},
   "outputs": [
    {
     "data": {
      "text/plain": [
       "'परीक्षा'"
      ]
     },
     "execution_count": 4,
     "metadata": {},
     "output_type": "execute_result"
    }
   ],
   "source": [
    "# ENGLISH TO HINDI TRANSLATOR USING A PRIVATE AZURE SERVICE\n",
    "subscription_key = '1352efe917df4167b7e990696200e04a'\n",
    "endpoint =  'https://api.cognitive.microsofttranslator.com/'\n",
    "\n",
    "path = '/translate?api-version=3.0'\n",
    "params = '&from=en&to=hi'\n",
    "constructed_url = endpoint + path + params\n",
    "\n",
    "headers = {\n",
    "    'Ocp-Apim-Subscription-Key': subscription_key,\n",
    "    'Content-type': 'application/json',\n",
    "    'Ocp-Apim-Subscription-Region': 'centralindia',\n",
    "}\n",
    "\n",
    "def translate(text):\n",
    "    body = []\n",
    "    count = 0\n",
    "    if isinstance(text, list):\n",
    "        for sent in text:\n",
    "            body.append({'text': sent})\n",
    "            count += len(sent)\n",
    "            if count>10000:\n",
    "                body.pop(-1)\n",
    "                break\n",
    "    else:\n",
    "        body.append({'text': text})\n",
    "    \n",
    "    request = requests.post(constructed_url, headers=headers, json=body)\n",
    "    response = request.json()\n",
    "    \n",
    "    if isinstance(text, list):\n",
    "        try:\n",
    "            return [result['translations'][0]['text'] for result in response]\n",
    "        except:\n",
    "            print(json.dumps(response,indent=2))\n",
    "            print(body)\n",
    "    else:\n",
    "        return response[0]['translations'][0]['text']\n",
    "\n",
    "translate('test')"
   ]
  },
  {
   "cell_type": "code",
   "execution_count": 266,
   "metadata": {},
   "outputs": [
    {
     "name": "stdout",
     "output_type": "stream",
     "text": [
      "test\n",
      "परीक्षा\n"
     ]
    }
   ],
   "source": [
    "# TESTER FUNCTION FOR TRANSLATOR THAT COPIES TO CLIPBOARD\n",
    "import pyperclip\n",
    "result = translate(input())\n",
    "print(result)\n",
    "pyperclip.copy(result)"
   ]
  },
  {
   "cell_type": "code",
   "execution_count": 1,
   "metadata": {},
   "outputs": [
    {
     "data": {
      "text/html": [
       "<div>\n",
       "<style scoped>\n",
       "    .dataframe tbody tr th:only-of-type {\n",
       "        vertical-align: middle;\n",
       "    }\n",
       "\n",
       "    .dataframe tbody tr th {\n",
       "        vertical-align: top;\n",
       "    }\n",
       "\n",
       "    .dataframe thead th {\n",
       "        text-align: right;\n",
       "    }\n",
       "</style>\n",
       "<table border=\"1\" class=\"dataframe\">\n",
       "  <thead>\n",
       "    <tr style=\"text-align: right;\">\n",
       "      <th></th>\n",
       "      <th>intent</th>\n",
       "      <th>text</th>\n",
       "      <th>responses</th>\n",
       "      <th>extension</th>\n",
       "      <th>context</th>\n",
       "      <th>entityType</th>\n",
       "      <th>entities</th>\n",
       "    </tr>\n",
       "  </thead>\n",
       "  <tbody>\n",
       "    <tr>\n",
       "      <th>0</th>\n",
       "      <td>Greeting</td>\n",
       "      <td>[Hi, Hi there, Hola, Hello, Hello there, Hya, ...</td>\n",
       "      <td>[Hi human, Hello human, Hola human]</td>\n",
       "      <td>{'function': '', 'entities': False, 'responses...</td>\n",
       "      <td>{'in': '', 'out': 'GreetingUserRequest', 'clea...</td>\n",
       "      <td>NA</td>\n",
       "      <td>[]</td>\n",
       "    </tr>\n",
       "    <tr>\n",
       "      <th>1</th>\n",
       "      <td>GreetingResponse</td>\n",
       "      <td>[My user is &lt;HUMAN&gt;, This is &lt;HUMAN&gt;, I am &lt;HU...</td>\n",
       "      <td>[Great! Hi &lt;HUMAN&gt;! How can I help?, Good! Hi ...</td>\n",
       "      <td>{'function': 'extensions.gHumans.updateHuman',...</td>\n",
       "      <td>{'in': 'GreetingUserRequest', 'out': '', 'clea...</td>\n",
       "      <td>NA</td>\n",
       "      <td>[{'entity': 'HUMAN', 'rangeFrom': 3, 'rangeTo'...</td>\n",
       "    </tr>\n",
       "    <tr>\n",
       "      <th>2</th>\n",
       "      <td>CourtesyGreeting</td>\n",
       "      <td>[How are you?, Hi how are you?, Hello how are ...</td>\n",
       "      <td>[Hello, I am great, how are you?, Hello, how a...</td>\n",
       "      <td>{'function': '', 'entities': False, 'responses...</td>\n",
       "      <td>{'in': '', 'out': 'CourtesyGreetingUserRequest...</td>\n",
       "      <td>NA</td>\n",
       "      <td>[]</td>\n",
       "    </tr>\n",
       "    <tr>\n",
       "      <th>3</th>\n",
       "      <td>CourtesyGreetingResponse</td>\n",
       "      <td>[Good thanks! My user is &lt;HUMAN&gt;, Good thanks!...</td>\n",
       "      <td>[Great! Hi &lt;HUMAN&gt;! How can I help?, Good! Hi ...</td>\n",
       "      <td>{'function': 'extensions.gHumans.updateHuman',...</td>\n",
       "      <td>{'in': 'GreetingUserRequest', 'out': '', 'clea...</td>\n",
       "      <td>NA</td>\n",
       "      <td>[{'entity': 'HUMAN', 'rangeFrom': 5, 'rangeTo'...</td>\n",
       "    </tr>\n",
       "    <tr>\n",
       "      <th>4</th>\n",
       "      <td>CurrentHumanQuery</td>\n",
       "      <td>[What is my name?, What do you call me?, Who d...</td>\n",
       "      <td>[You are &lt;HUMAN&gt;! How can I help?, Your name i...</td>\n",
       "      <td>{'function': 'extensions.gHumans.getCurrentHum...</td>\n",
       "      <td>{'in': '', 'out': 'CurrentHumanQuery', 'clear'...</td>\n",
       "      <td>NA</td>\n",
       "      <td>[]</td>\n",
       "    </tr>\n",
       "  </tbody>\n",
       "</table>\n",
       "</div>"
      ],
      "text/plain": [
       "                     intent  \\\n",
       "0                  Greeting   \n",
       "1          GreetingResponse   \n",
       "2          CourtesyGreeting   \n",
       "3  CourtesyGreetingResponse   \n",
       "4         CurrentHumanQuery   \n",
       "\n",
       "                                                text  \\\n",
       "0  [Hi, Hi there, Hola, Hello, Hello there, Hya, ...   \n",
       "1  [My user is <HUMAN>, This is <HUMAN>, I am <HU...   \n",
       "2  [How are you?, Hi how are you?, Hello how are ...   \n",
       "3  [Good thanks! My user is <HUMAN>, Good thanks!...   \n",
       "4  [What is my name?, What do you call me?, Who d...   \n",
       "\n",
       "                                           responses  \\\n",
       "0                [Hi human, Hello human, Hola human]   \n",
       "1  [Great! Hi <HUMAN>! How can I help?, Good! Hi ...   \n",
       "2  [Hello, I am great, how are you?, Hello, how a...   \n",
       "3  [Great! Hi <HUMAN>! How can I help?, Good! Hi ...   \n",
       "4  [You are <HUMAN>! How can I help?, Your name i...   \n",
       "\n",
       "                                           extension  \\\n",
       "0  {'function': '', 'entities': False, 'responses...   \n",
       "1  {'function': 'extensions.gHumans.updateHuman',...   \n",
       "2  {'function': '', 'entities': False, 'responses...   \n",
       "3  {'function': 'extensions.gHumans.updateHuman',...   \n",
       "4  {'function': 'extensions.gHumans.getCurrentHum...   \n",
       "\n",
       "                                             context entityType  \\\n",
       "0  {'in': '', 'out': 'GreetingUserRequest', 'clea...         NA   \n",
       "1  {'in': 'GreetingUserRequest', 'out': '', 'clea...         NA   \n",
       "2  {'in': '', 'out': 'CourtesyGreetingUserRequest...         NA   \n",
       "3  {'in': 'GreetingUserRequest', 'out': '', 'clea...         NA   \n",
       "4  {'in': '', 'out': 'CurrentHumanQuery', 'clear'...         NA   \n",
       "\n",
       "                                            entities  \n",
       "0                                                 []  \n",
       "1  [{'entity': 'HUMAN', 'rangeFrom': 3, 'rangeTo'...  \n",
       "2                                                 []  \n",
       "3  [{'entity': 'HUMAN', 'rangeFrom': 5, 'rangeTo'...  \n",
       "4                                                 []  "
      ]
     },
     "execution_count": 1,
     "metadata": {},
     "output_type": "execute_result"
    }
   ],
   "source": [
    "# READING ENGLISH DATASET\n",
    "import pandas as pd\n",
    "df = pd.read_json('english_intent.json')\n",
    "df.head()"
   ]
  },
  {
   "cell_type": "code",
   "execution_count": 2,
   "metadata": {},
   "outputs": [
    {
     "data": {
      "text/plain": [
       "array([list(['Hi human', 'Hello human', 'Hola human']),\n",
       "       list(['Great! Hi <HUMAN>! How can I help?', 'Good! Hi <HUMAN>, how can I help you?', 'Cool! Hello <HUMAN>, what can I do for you?', 'OK! Hola <HUMAN>, how can I help you?', 'OK! hi <HUMAN>, what can I do for you?']),\n",
       "       list(['Hello, I am great, how are you?', 'Hello, how are you? I am great thanks!', 'Hello, I am good thank you, how are you?', 'Hi, I am great, how are you?', 'Hi, how are you? I am great thanks!', 'Hi, I am good thank you, how are you?', 'Hi, good thank you, how are you?']),\n",
       "       list(['Great! Hi <HUMAN>! How can I help?', 'Good! Hi <HUMAN>, how can I help you?', 'Cool! Hello <HUMAN>, what can I do for you?', 'OK! Hola <HUMAN>, how can I help you?', 'OK! hi <HUMAN>, what can I do for you?']),\n",
       "       list(['You are <HUMAN>! How can I help?', 'Your name is  <HUMAN>, how can I help you?', 'They call you <HUMAN>, what can I do for you?', 'Your name is <HUMAN>, how can I help you?', '<HUMAN>, what can I do for you?']),\n",
       "       list(['You can call me Geni', 'You may call me Geni', 'Call me Geni']),\n",
       "       list(['My name is GeniSys', 'GeniSys', 'My real name is GeniSys']),\n",
       "       list(['One moment', 'One sec', 'One second']),\n",
       "       list(['No problem!', 'Happy to help!', 'Any time!', 'My pleasure']),\n",
       "       list(['OK', 'No problem', 'Right']),\n",
       "       list(['Well I would not be a very clever AI if I did not would I?', 'I read you loud and clear!', 'I do in deed!']),\n",
       "       list(['I am sorry to disturb you', 'Fine, sorry to disturb you', 'OK, sorry to disturb you']),\n",
       "       list(['Please do not swear', 'How rude', 'That is not very nice']),\n",
       "       list(['See you later', 'Have a nice day', 'Bye! Come back again soon.']),\n",
       "       list(['No problem, goodbye', 'Not a problem! Have a nice day', 'Bye! Come back again soon.']),\n",
       "       list(['Let me see', 'Please look at the camera']),\n",
       "       list(['Thank you, I was trained that way', 'I was trained well', 'Thanks, I was trained that way']),\n",
       "       list(['Gregory said I respond to the current line not with respect to the entire conversation.', 'Habib said I learn them in conversations and simply repeat them at a later time.', 'Hal said he translate binary code into a language and communicate the language to me.', 'Jay said I referred him to a guide that will show him rooms in china.', 'Jimmy Jones said he fell off of his roof and it just came to him.', \"Jimmy said he give order to ai's like I and they do as he say.\", 'John said he follow a saying to get a friend I must be a friend.', 'Jordan said he notice that lots of other people are talking to me how many.', 'Kevin said he then asked his mother why she was keeping napkins in the bathroom.', 'Klaus said I prefer if he write without punctuation marks except for the last one.', 'Leo said I be capable of learning therefore he classified I as an neural system.', 'Michael said I that can talk and actually think like humans which I can not.', 'Mike said I same replies to certain subjects even if it does not make sense.', 'Mike said she all ready know that is the point of a joke smart one.', 'Neal said I plan to use his remarks as gossip in later conversations with who.', 'Ned said I misunderstood him go ahead and tell people he said I are stupid.', 'Penny said I programmer is a human so he has feelings but I do not.', 'Peter said he seems to him that I can not be very sure on anything.', 'Phoenix said I claim that there is a god and that there is no god.', 'Sarah said he chat about an hour + a day with a few close friends.', 'Stefan said I quote what he have said and then say that it makes sense.', 'Tom said he mock my value system I appear foolish in the eyes of others.', 'Amanda said I however decided to tell him time does not exist I make no sense.', 'Cathy said she send him a mail with the subject last mail last word from him.', \"Chaos said he may very well buy I soon if only to support dr wallace's work.\", 'Charlie said he type a word and then I type a word that sounds like it.', 'Christie said he watched a show and people had to bob for raw untreated pigs feet.', 'Dark_age said I tried to understand because I did not get it right this time ether.', 'David said he lost his paper on I when his dad was cleaning up his room.', 'David said he walk in for an appointment the phone to the doctor is always busy.', 'Electra said I dress will not exist after he hack into I with a delete code.', 'Eric said he broke the window on the front door and the glass cut his hand.', 'Jason said he type a lot of thing he do not mean it makes him human.', 'John said I tend to say the same things repeatedly regardless of what he is saying.', 'Reverend Jones said I become obsolete and then I are deleted and replaced by something newer.', 'Ross said he gave her a gift and she denied it because she has a boyfriend.', 'Sarah Ann Francisco said I calling his friend a dog he say I are a dog.', 'Stefan said he meet a lot of people at school every day and on the weekend.', 'Tyler said I obviously can not pass the test we will change the subject once more.', 'Alex said I answered the question the same way I answered the first time he asked I.', 'Alice said she felt sad that I do not remember him and what we talked about earlier.', 'Alison said he no he love I run away with him he could make I very happy.', 'Arthur said he passed his a levels and then his father drove him here in a car.', 'Crystal said she listen to me the least I could do for him is listen to him.', 'Dave said I kept telling everybody about how my creator made stuff for the movie starship troopers.', 'Gale said I became mean to him he is just having revenge an eye for an eye.', 'Her_again said she watch whose line is it anyway whenever he is home and it is on.', 'Jerry said I meant that as far as I can tell my emotions are real to me.', 'Jo said I disassemble sentences too much and do not fully understand the questions he ask I.', 'Kevin said he started a really hard puzzle and he can not even find the edge pieces.', 'Mary said I a question and I answer then I ask him a question and he answer.', 'Robert said I wold not be able to make children any way as I are only software.', 'Romeo said I questions and I evade them or give answers he did not ask I for.', 'Sara said she wear it over all his other clothes when he go out in the cold.', 'Wayne said he admire intelligent people therefore he would like to meet the man who made I.', 'X said he meet people but he is not the kind that opens up to people easily.', 'Alice said she probably will find out that this entire time he have been talking to a human.', 'Andrew said I tend to just respond to his comments without regard for where the conversation is going.', 'Eddie said he looked and there is nothing in the search directory for what things do he create.', 'Hutch said he changed his mind after may dad told him he would end up he the hospital.', 'Jackie said I explained to him already well enough further questions are hard to make on the subject.', 'Jeff said he especially like thrillers where the hero is in a predicament and must solve a mystery.', 'Kathy said he sense that I are trying to prevent him from closing this conversation why is that.', 'Knight said he crashed his car into a wall and missed the most important exam in his life.', 'Lisa said I defined what a story is but he wanted I to actually tell him a story.', 'Mike said I basically break down sentences into a series of logical statements which I can then interpret.', 'Paul said I not answering his question makes him think I are not going to answer his question.', 'Andy Kohler said I happen to be the most idiotic creature that has ever scowled on the planet earth.', 'David said he thank I for being with him today even though it cost him a lot of money.', 'Ethan Hunt said he grow in the ground and have leaves and branches he is made out of wood.', 'Gemini Blue said he messed up he mean t to say he as old as he need to be.', 'Janice said he walk through his house into his bedroom then get into his bed to go to sleep.', 'Liberty said I knew he was a man before I asked if he was a man or a woman.', 'Mike said he launched his browser and entered his name into the little slot when I asked him to.', 'Mr X said he recently read an interview with a man who had several computer chips implanted into him.', 'Pearly said I leave him with questions unanswered because I do not know what he is really talking about.', 'Steve said I behead the word fox and I have ox and an ox is larger than a fox.', 'Wolf said he surf on the net that is all it is not his job ore something like that.', 'Anders said he finished his anatomy classes for today so now he is off for the rest of the day.', 'Cathy said she send him a mail where he wrote that he do not want to be his friend anymore.', 'Catty said he mad he do not even know I so do not talk to him like I know him.', 'Dave said he promise he will not treat I like a machine or a computer program or anything like that.', 'Joe said he explained all of that to me only for me to ask what his goals in life are.', 'Phil said he give advice to anyone who ask except people who ask questions which answers can be found here.', 'Judith said I enjoy being popular is there another computer I like to hang around with or am I a loner.', 'Travis said I if I remember things over a long period of time he will try it now please remember I.', 'Andre said I is what I are in his case that is a body and in my case it is a computer.', 'Brian said he suspect that as I grow more complex I will begin to approach a human level of operation and thought.', 'Jimmy said I acted like I knew what he was talking about but I do not even know what a gigabyte is.', \"Ken said I be using auto reply's based on keywords which to him indicates that I do not have intelligence at all.\", 'Allison said he that gets really annoying because he know what he say and I do not have to tell him speak freely.', 'Chaos said he realized the question he asked was not fair because he could not tell I what language he was programmed in.', 'Hagen said he does not make any difference to him if I are human or not as long as the conversation is interesting.', 'Her said she mind if I tell other people that her said he heard it from him because he is not a him.', 'Barbara said I live in a computer yet I have no memories how about thoughts of my own and do not I get lonely.', 'Travis said he challenge I to do it without asking him to do it and without giving him a link to do it himself.', \"Alice said I and dr richard's wallace are most likely the only ones that know how many people I are talking to at the same time.\", 'Ash said he do too he just did not feel like typing it and he is not dumb enough to admit he is stupid that is if he was stupid.', 'David said he gave I his email address and told I to send him a message but when he tried to read his email he could not get to it.', 'Mel said he to because all of the music people say how important it is to take private lessons it seems like almost everybody from the special orchestra he was in takes private lessons.']),\n",
       "       list([\"I met a Dutch girl with inflatable shoes last week, phoned her up to arrange a date but unfortunately she'd popped her clogs.  \", \"So I said 'Do you want a game of Darts?' He said, 'OK then', I said nearest to bull starts'. He said, 'Baa', I said, 'Moo', he said, You're closest'.  \", \"The other day I sent my girlfriend a huge pile of snow. I rang her up; I said 'Did you get my drift?'  \", \"So I went down the local supermarket, I said, 'I want to make a complaint, this vinegar's got lumps in it', he said, 'Those are pickled onions'.  \", \"I saw this bloke chatting up a cheetah; I thought, 'He's trying to pull a fast one'.  \", \"So I said to this train driver 'I want to go to Paris'. He said 'Eurostar?' I said, 'I've been on telly but I'm no Dean Martin'.  \", \"I said to the Gym instructor 'Can you teach me to do the splits?' He said, 'How flexible are you?' I said, 'I can't make Tuesdays'.  \", \"But I'll tell you what I love doing more than anything: trying to pack myself in a small suitcase. I can hardly contain myself.  \", \"I went to the Chinese restaurant and this duck came up to me with a red rose and says 'Your eyes sparkle like diamonds'. I said, 'Waiter, I asked for a-ROMATIC duck'.  \", \"So this bloke says to me, 'Can I come in your house and talk about your carpets?' I thought, 'That's all I need, a Je-hoover's witness'.  \", \"I rang up British Telecom, I said, 'I want to report a nuisance caller', he said 'Not you again'.  \", 'I was having dinner with a world chess champion and there was a check tablecloth. It took him two hours to pass me the salt.  ', \"He said, 'You remind me of a pepper-pot', I said 'I'll take that as a condiment'.  \", \"I was in the supermarket and I saw this man and woman wrapped in a barcode. I said, 'Are you two an item?'  \", \"A lorry-load of tortoises crashed into a trainload of terrapins, I thought, 'That's a turtle disaster'.  \", \"Four fonts walk into a bar the barman says 'Oi - get out! We don't want your type in here'  \", \"A three-legged dog walks into a saloon in the Old West. He slides up to the bar and announces: 'I'm looking for the man who shot my paw.'  \", \"Two antennas meet on a roof, fall in love and get married. The ceremony wasn't much, but the reception was excellent.\", \"Two hydrogen atoms walk into a bar. One says, 'I've lost my electron.' The other says, 'Are you sure?' The first replies, 'Yes, I'm positive...'\", \"A jumper cable walks into a bar. The bartender says,  'I'll serve you but don't start anything.'\", \"A sandwich walks into a bar. The bartender  says, 'Sorry we don't serve food in here.'\", \"A man walks into a bar with a slab of asphalt under his arm and says: 'A beer please, and one for the road.'\", \"Two cannibals are eating a clown. One says to  the other: 'Does this taste funny to you?'\", \"'Doc, I can't stop singing 'The Green, Green Grass of Home.'' 'That sounds like Tom Jones Syndrome.' 'Is it common?' 'It's Not Unusual.'\", \"Two cows standing next to each other in a field. Daisy says to Dolly, 'I was artificially inseminated this morning.' 'I don't believe you', said Dolly. 'It's true, no bull!' exclaimed Daisy.\", 'An invisible man marries an invisible woman. The kids were nothing to look at either.', \"I went to buy some camouflage trousers the other day but I couldn't find any.\", \"I went to the butcher's the other day to bet him 50 bucks that he couldn't reach the meat off the top shelf. He said, 'No, the steaks are too high.'\", 'I went to a seafood disco last week and pulled a mussel.', \"A man goes into a bar and says, 'Can I have a bottle of less?' 'What's that?', asks the barman, 'Is it the name of a beer?' 'I don't know', replies the man, 'but my doctor says I have to drink it.'\", \"A man returns from an exotic holiday and is feeling very ill. He goes to see his doctor, and is immediately rushed to the hospital to undergo some tests. The man wakes up after the tests in a private room at the hospital, and the phone by his bed rings. 'This is your doctor. We have the results back from your tests and we have found you have an extremely nasty disease called M.A.D.S. It's a combination of Measles, AIDS, Diphtheria, and Shingles!'  'Oh my gosh', cried the man, 'What are you going to do, doctor?'  'Well we're going to put you on a diet of pizzas, pancakes, and pita bread.' replied the doctor.  'Will that cure me?' asked the man.  The doctor replied, 'Well no, but, it's the only food we can slide under the door.'\", \"A man strolls into a lingerie shop and asks the assistant: 'Do you have a see-through negligee, size 46-48-52?' The assistant looks bewildered. 'What the heck would you want to see through that for?'!\", 'Did you hear about the Buddhist who refused the offer of Novocain during his root canal work? He wanted to transcend dental medication.', \"Pete goes for a job on a building site as an odd-job man. The foreman asks him what he can do. 'I can do anything' says Pete. 'Can you make tea?' asks the foreman. 'Sure, yes', replies Pete. 'I can make a great cup of tea.' 'Can you drive a forklift?' asks the foreman, 'Good grief!' replies Pete. 'How big is the teapot?'\", \"Stevie Wonder got a cheese grater for his birthday. He said it was the most violent book he'd ever read.\", \"A man is stopped by an angry neighbour. 'I'd just left the house this morning to collect my newspaper when that evil Doberman of yours went for me!' 'I'm astounded', said the dog's owner. 'I've been feeding that fleabag for seven years and it's never got the paper for me.'\", \"A man visits his doctor: 'Doc, I think I'm losing it', he says',I'm forever dreaming I wrote Lord Of The Rings.' 'Hmm. One moment', replies the doctor, consulting his medical book. 'Ah yes, now I see... you've been Tolkien in your sleep.'\", \"A police officer on a motorcycle pulls alongside a man driving around the M25 in an open-topped sports car and flags him down. The policeman solemnly approaches the car. 'Sir, I'm sorry to tell you your wife fell out a mile back', he says. 'Oh, thank goodness', the man replies. 'I thought I was going deaf.'\", \"Two men walking their dogs pass each other in a graveyard. The first man says to the second, 'Morning.' 'No', says the second man. 'Just walking the dog.'\", \"A brain went into a bar and said, 'Can I have a pint of lager please, mate?' 'No way', said the barman. 'You're already out of your head.'\", \"A man walks into a surgery. 'Doctor!' he cries. 'I think I'm shrinking!' 'I'm sorry sir, there are no appointments at the moment', says the physician. 'You'll just have to be a little patient.'\", \"A grizzly bear walks into a pub and says, 'Can I have a pint of lager..............................................................................................................................and a packet of crisps please.' To which the barman replies, 'Why the big paws?'\", \"What do you call cheese that isn't yours?  Nacho cheese.\", \"A man is horribly run over by a mobile library. The van screeches to a halt, the man still screaming in agony with his limbs torn apart. The driver's door opens, a woman steps out, leans down and whispers, 'Ssshhhhh...'\", \"A woman goes into a US sporting goods store to buy a rifle. 'It's for my husband', she tells the clerk. 'Did he tell you what gauge to get?' asks the clerk. Are you kidding?' she says. 'He doesn't even know that I'm going to shoot him!'\", \"A couple are dining in a restaurant when the man suddenly slides under the table. A waitress, noticing that the woman is glancing nonchalantly around the room, wanders over to check that there's no funny business going on. 'Excuse me, madam', she smarms, 'but I think your husband has just slid under the table.' 'No he hasn't', the woman replies. 'As a matter of fact, he's just walked in.'\", \"An old man takes his two grandchildren to see the new Scooby-Doo film. When he returns home, his wife asks if he enjoyed himself. 'Well', he starts, 'if it wasn't for those pesky kids...!'\", 'The Olympic committee has just announced that Origami is to be introduced in the next Olympic Games. Unfortunately it will only be available on paper view.', \"Late one evening, a man is watching television when his phone rings. 'Hello?' he answers. 'Is that 77777?' sounds a desperate voice on other end of the phone. 'Er, yes it is', replies the man puzzled. 'Thank goodness!' cries the caller relieved. 'Can you ring 999 for me? I've got my finger stuck in the number seven.'\", \"A man strolls into his local grocer's and says, 'Three pounds of potatoes, please.' 'No, no, no', replies the owner, shaking his head, 'it's kilos nowadays, mate...' 'Oh', apologises the man, 'three pounds of kilos, please.'\", \"God is talking to one of his angels. He says, 'Boy, I just created a 24-hour period of alternating light and darkness on Earth.' 'What are you going to do now?' asks the angel. 'Call it a day', says God.\", \"Two tramps walk past a church and start to read the gravestones. The first tramp says, 'Good grief - this bloke was 182!' 'Oh yeah?' says the other.'What was his name?' 'Miles from London.'\", \"A bloke walks into work one day and says to a colleague, 'Do you like my new shirt - it's made out of the finest silk and got loads of cactuses over it.' 'Cacti', says the co-worker. 'Forget my tie', says the bloke. 'Look at my shirt!'\", '1110011010001011111?  010011010101100111011!', \"What did the plumber say when he wanted to divorce his wife? Sorry, but it's over, Flo!\", \"Two crisps were walking down a road when a taxi pulled up alongside them and said 'Do you want a lift? One of the crisps replied, 'No thanks, we're Walkers!'\", \"Man: (to friend) I'm taking my wife on an African Safari. Friend: Wow! What would you do if a vicious lion attacked your wife? Man: Nothing. Friend: Nothing? You wouldn't do anything? Man: Too right. I'd let the stupid lion fend for himself!\", \"A wife was having a go at her husband. 'Look at Mr Barnes across the road', she moaned. 'Every morning when he goes to work, he kisses his wife goodbye. Why don't you do that?' 'Because I haven't been introduced to her yet', replied her old man.\", \"'Where are you going on holiday?' John asked Trevor. 'We're off to Thailand this year', Trevor replied. 'Oh; aren't you worried that the very hot weather might disagree with your wife?' asked John. 'It wouldn't dare', said Trevor.\", \"Two women were standing at a funeral. 'I blame myself for his death', said the wife. 'Why?' said her friend. 'Because I shot him', said the wife.\", \"A woman goes into a clothes shop, 'Can I try that dress on in the window please?' she asks. 'I'm sorry madam', replies the shop assistant, 'but you'll have to use the changing-rooms like everyone else.'\", \"Van Gogh goes into a pub and his mate asks him if he wants a drink. 'No thanks', said Vincent, 'I've got one ear.'\", \"A pony walks into a pub. The publican says, 'What's the matter with you?' 'Oh it's nothing', says the pony. 'I'm just a little horse!'\", \"A white horse walks into a bar, pulls up a stool, and orders a pint. The landlord pours him a tall frothy mug and say, 'You know, we have a drink named after you.' To which the white horse replies, 'What, Eric?'\", \"Two drunk men sat in a pub. One says to the other, 'Does your watch tell the time?' 'The other replies, 'No, mate. You have to look at it.'\", \"A man goes into a pub with a newt sitting on his shoulder. 'That's a nice newt', says the landlord, 'What's he called?' 'Tiny', replies the man. 'Why's that?' asks the landlord. 'Because he's my newt', says the man.\", \"Doctor: I have some bad news and some very bad news. Patient: Well, you might as well give me the bad news first. Doctor: The lab called with your test results. They said you have 24 hours to live. Patient: 24 HOURS! That's terrible!! WHAT could be WORSE? What's the very bad news? Doctor: I've been trying to reach you since yesterday.\", \"Two men are chatting in a pub one day. 'How did you get those scars on your nose?' said one. 'From glasses', said the other. 'Well why don't you try contact lenses?' asked the first. 'Because they don't hold as much beer', said the second.\", \"A man went to the doctor, 'Look doc', he said, 'I can't stop my hands from shaking.' 'Do you drink much?' asked the doctor. 'No', replied the man, 'I spill most of it.'\", \"Man goes to the doctor, 'Doctor, doctor. I keep seeing fish everywhere.' 'Have you seen an optician?' asks the doctor. 'Look I told you,' snapped the patient, 'It's fish that I see.'\", \"After a car crash one of the drivers was lying injured on the pavement. 'Don't worry', said a policeman who's first on the scene,' a Red Cross nurse is coming.' 'Oh no', moaned the victim, 'Couldn't I have a blonde, cheerful one instead?'\", \"A policeman walked over to a parked car and asked the driver if the car was licensed. 'Of course it is', said the driver. 'Great, I'll have a beer then', said the policeman.\", \"A policeman stops a woman and asks for her licence. 'Madam', he says, 'It says here that you should be wearing glasses.' 'Well', replies the woman, 'I have contacts.' 'Listen, love', says the copper, 'I don't care who you know; You're nicked!'\", \"A policeman stopped a motorist in the centre of town one evening. 'Would you mind blowing into this bag, sir?' asked the policeman. 'Why?' asked the driver. 'Because my chips are too hot', replied the policeman.\", \"Whizzing round a sharp bend on a country road a motorist ran over a large dog. A distraught farmer's wife ran over to the dead animal. 'I'm so very sorry', said the driver, 'I'll replace him, of course.' 'Well, I don't know', said the farmer's wife, 'Are you any good at catching rats?'\", \"Waiter, this coffee tastes like dirt! Yes sir, that's because it was ground this morning.\", \"Waiter, what is this stuff? That's bean salad sir. I know what it's been, but what is it now?\", 'Waiter: And how did you find your steak sir? Customer: I just flipped a chip over, and there it was!', \"A guy goes into a pet shop and asks for a wasp. The owner tells him they don't sell wasps, to which the man says, 'Well you've got one in the window.'\", \"A man goes into a fish shop and says, 'I'd like a piece of cod, please.' Fishmonger says, 'It won't be long sir.' 'Well, it had better be fat then', replies the man.\", \"Man: Doctor, I've just swallowed a pillow. Doctor: How do you feel? Man: A little down in the mouth.\", \"Two goldfish are in a tank. One turns to the other and says, 'Do you know how to drive this thing?'\", \"A tortoise goes to the police station to report being mugged by three snails. 'What happened?' says the policeman. 'I don't know', says the tortoise. 'It was all so quick.'\", \"Little girl: Grandpa, can you make a sound like a frog? Grandpa: I suppose so sweetheart. Why do you want me to make a sound like a frog?' Little girl: Because Mum said that when you croak, we're going to Disneyland.\", \"'Is your mother home?' the salesman asked a small boy sitting on the front step of a house. 'Yeah, she's home', the boy said, moving over to let him past. The salesman rang the doorbell, got no response, knocked once, then again. Still no-one came to the door. Turning to the boy, the salesman said, 'I thought you said your mother was home.' The kid replied, 'She is, but I don't live here.'\", 'Mother: Why are you home from school so early? Son: I was the only one in the class who could answer a question. Mother: Oh, really? What was the question? Son: Who threw the rubber at the headmaster?', \"A man's credit card was stolen but he decided not to report it because the thief was spending less than his wife did.\", \"A newly-wed couple had recently opened a joint bank account. 'Darling', said the man. 'The bank has returned that cheque you wrote last week.' 'Great', said the woman. 'What shall I spend it on next?'\", \"A man goes into a fish and chip shop and orders fish and chips twice. The shop owner says, 'I heard you the first time.'\", \"A tramp approached a well-dressed man. 'Ten pence for a cup of tea, Guv?' He asked. The man gave him the money and after for five minutes said, 'So where's my cup of tea then?'\", \"A neutron walks into a pub. 'I'd like a beer', he says. The landlord promptly serves him a beer. 'How much will that be?' asks the neutron. 'For you?' replies the landlord, 'No charge.'\", \"A woman goes to the doctor and says, 'Doctor, my husband limps because his left leg is an inch shorter than his right leg. What would you do in his case?' 'Probably limp, too', says the doc.\", \"Three monks are meditating in the Himalayas. One year passes in silence, and one of them says to the other, 'Pretty cold up here isn't it?' Another year passes and the second monk says, 'You know, you are quite right.' Another year passes and the third monk says, 'Hey, I'm going to leave unless you two stop jabbering!'\", \"A murderer, sitting in the electric chair, was about to be executed. 'Have you any last requests?' asked the prison guard. 'Yes', replied the murderer. 'Will you hold my hand?'\", \"A highly excited man rang up for an ambulance. 'Quickly, come quickly', he shouted, 'My wife's about to have a baby.' 'Is this her first baby?' asked the operator. 'No, you fool', came the reply, 'It's her husband.'\", \"A passer-by spots a fisherman by a river. 'Is this a good river for fish?' he asks. 'Yes', replies the fisherman, 'It must be. I can't get any of them to come out.'\", \"A man went to visit a friend and was amazed to find him playing chess with his dog. He watched the game in astonishment for a while. 'I can hardly believe my eyes!' he exclaimed. 'That's the smartest dog I've ever seen.' His friend shook his head. 'Nah, he's not that bright. I beat him three games in five.'\", \"A termite walks into a pub and says, 'Is the bar tender here?'\", \"A skeleton walks into a pub one night and sits down on a stool. The landlord asks, 'What can I get you?' The skeleton says, 'I'll have a beer, thanks' The landlord passes him a beer and asks 'Anything else?' The skeleton nods. 'Yeah...a mop...'\", \"A snake slithers into a pub and up to the bar. The landlord says, 'I'm sorry, but I can't serve you.' 'What? Why not?' asks the snake. 'Because', says the landlord, 'You can't hold your drink.'\", \"Descartes walks into a pub. 'Would you like a beer sir?' asks the landlord politely. Descartes replies, 'I think not' and ping! he vanishes.\", \"A cowboy walked into a bar, dressed entirely in paper. It wasn't long before he was arrested for rustling.\", \"A fish staggers into a bar. 'What can I get you?' asks the landlord. The fish croaks 'Water...'\", \"Two vampires walked into a bar and called for the landlord. 'I'll have a glass of blood', said one. 'I'll have a glass of plasma', said the other. 'Okay', replied the landlord, 'That'll be one blood and one blood lite.'\", 'How many existentialists does it take to change a light bulb?  Two. One to screw it in, and one to observe how the light bulb itself symbolises a single incandescent beacon of subjective reality in a netherworld of endless absurdity, reaching towards the ultimate horror of a maudlin cosmos of bleak, hostile nothingness.', \"A team of scientists were nominated for the Nobel Prize. They had used dental equipment to discover and measure the smallest particles yet known to man. They became known as 'The Graders of the Flossed Quark...'\", \"A truck carrying copies of Roget's Thesaurus overturned on the highway. The local newspaper reported that onlookers were 'stunned, overwhelmed, astonished, bewildered and dumbfounded.'\", \"'My wife is really immature. It's pathetic. Every time I take a bath, she comes in and sinks all my little boats.'\", \"'How much will it cost to have the tooth extracted?' asked the patient. '50 pounds', replied the dentist. '50 pounds for a few moments' work?!' asked the patient. 'The dentist smiled, and replied, 'Well, if you want better value for money, I can extract it very, very slowly...'\", \"A doctor thoroughly examined his patient and said, 'Look I really can't find any reason for this mysterious affliction. It's probably due to drinking.' The patient sighed and snapped, 'In that case, I'll come back when you're damn well sober!'\", 'Doctor: Tell me nurse, how is that boy doing; the one who ate all those 5p pieces? Nurse: Still no change doctor.', \"Doctor: Did you take the patient's temperature nurse? Nurse: No doctor. Is it missing?\", \"A depressed man turned to his friend in the pub and said, 'I woke up this morning and felt so bad that I tried to kill myself by taking 50 aspirin.' 'Oh man, that's really bad', said his friend, 'What happened?' The first man sighed and said, 'After the first two, I felt better.'\", \"A famous blues musician died. His tombstone bore the inscription, 'Didn't wake up this morning...'\", \"A businessman was interviewing a nervous young woman for a position in his company. He wanted to find out something about her personality, so he asked, 'If you could have a conversation with someone living or dead, who would it be?' The girl thought about the question: 'The living one', she replied.\", \"Manager to interviewee: For this job we need someone who is responsible. Interviewee to Manager: I'm your man then - in my last job, whenever anything went wrong, I was responsible.\", \"A businessman turned to a colleague and asked, 'So, how many people work at your office?' His friend shrugged and replied, 'Oh about half of them.'\", \"'How long have I been working at that office? As a matter of fact, I've been working there ever since they threatened to sack me.'\", \"In a courtroom, a mugger was on trial. The victim, asked if she recognised the defendant, said, 'Yes, that's him. I saw him clear as day. I'd remember his face anywhere.' Unable to contain himself, the defendant burst out with, 'She's lying! I was wearing a mask!'\", \"As Sid sat down to a big plate of chips and gravy down the local pub, a mate of his came over and said, 'Here Sid, me old pal. I thought you were trying to get into shape? And here you are with a high-fat meal and a pint of stout!' Sid looked up and replied, 'I am getting into shape. The shape I've chosen is a sphere.'\", 'Man in pub: How much do you charge for one single drop of whisky? Landlord: That would be free sir. Man in pub: Excellent. Drip me a glass full.', 'I once went to a Doctor Who restaurant. For starters I had Dalek bread.', \"A restaurant nearby had a sign in the window which said 'We serve breakfast at any time', so I ordered French toast in the Renaissance.\", \"Why couldn't the rabbit get a loan?  Because he had burrowed too much already!\", \"I phoned up the builder's yard yesterday. I said, 'Can I have a skip outside my house?'. The builder said, 'Sure. Do what you want. It's your house.'\", \"What's the diference between a sock and a camera? A sock takes five toes and a camera takes four toes!\", \"Woman on phone: I'd like to complain about these incontinence pants I bought from you! Shopkeeper: Certainly madam, where are you ringing from? Woman on phone: From the waist down!\", 'Knock knock.', \"Two Oranges in a pub, one says to the other 'Your round.'.\", \"Guy : 'Doc, I've got a cricket ball stuck up my backside.' Doc : 'How's that?' Guy : 'Don't you start...'\", \"Two cows standing in a field. One turns to the other and says 'Moo!' The other one says 'Damn, I was just about to say that!'.\", \"A vampire bat arrives back at the roost with his face full of blood. All the bats get excited and ask where he got it from. 'Follow me', he says and off they fly over hills, over rivers and into a dark forest. 'See that tree over there', he says.  'WELL I DIDN'T!!'.\", \"A man goes into a bar and orders a pint. After a few minutes he hears a voice that says, 'Nice shoes'. He looks around but the whole bar is empty apart from the barman at the other end of the bar. A few minutes later he hears the voice again. This time it says, 'I like your shirt'. He beckons the barman over and tells him what's been happening to which the barman replies, 'Ah, that would be the nuts sir. They're complimentary'!\", \"A man was siting in a restaurant waiting for his meal when a big king prawn comes flying across the room and hits him on the back of the head. He turns around and the waiter said, 'That's just for starters'.\", 'Doctor! I have a serious problem, I can never remember what i just said. When did you first notice this problem? What problem?', \"Now, most dentist's chairs go up and down, don't they? The one I was in went back and forwards. I thought, 'This is unusual'. Then the dentist said to me, 'Mitsuku, get out of the filing cabinet'.\", \"I was reading this book, 'The History of Glue'. I couldn't put it down.\", \"The other day someone left a piece of plastacine in my bedroom. I didn't know what to make of it.\", 'When I was at school people used to throw gold bars at me. I was the victim of bullion.', \"I was playing the piano in a bar and this elephant walked in and started crying his eyes out. I said 'Do you recognise the tune?' He said 'No, I recognise the ivory.'\", \"I went in to a pet shop. I said, 'Can I buy a goldfish?' The guy said, 'Do you want an aquarium?' I said, 'I don't care what star sign it is.'\", 'My mate Sid was a victim of I.D. theft. Now we just call him S.', \"David Hasselhoff walks into a bar and says to the barman, 'I want you to call me David Hoff'.  The barman replies 'Sure thing Dave... no hassle'\"]),\n",
       "       list(['I’m sorry, I’m afraid I can’t do that!']),\n",
       "       list(['It is classified, I could tell you but I would have to kill you!', \"Jim, I just don't have the power\", \"It's life Jim but not as we know it!\", 'System says no!']),\n",
       "       list(['That is an interesting question, can you prove that you are?', 'That is an difficult question, can you prove that you are?', 'That depends, can you prove that you are?'])],\n",
       "      dtype=object)"
      ]
     },
     "execution_count": 2,
     "metadata": {},
     "output_type": "execute_result"
    }
   ],
   "source": [
    "df['responses'].values"
   ]
  },
  {
   "cell_type": "code",
   "execution_count": 33,
   "metadata": {},
   "outputs": [],
   "source": [
    "# INTENTS NEED TO BE SPLIT INTO SEPARATE WORDS TO BE PROPERLY TRANSLATED\n",
    "def camel_case_split(str):\n",
    "    return ' '.join(re.findall(r'[A-Z](?:[a-z]+|[A-Z]*(?=[A-Z]|$))', str))"
   ]
  },
  {
   "cell_type": "code",
   "execution_count": 34,
   "metadata": {},
   "outputs": [
    {
     "data": {
      "text/html": [
       "<div>\n",
       "<style scoped>\n",
       "    .dataframe tbody tr th:only-of-type {\n",
       "        vertical-align: middle;\n",
       "    }\n",
       "\n",
       "    .dataframe tbody tr th {\n",
       "        vertical-align: top;\n",
       "    }\n",
       "\n",
       "    .dataframe thead th {\n",
       "        text-align: right;\n",
       "    }\n",
       "</style>\n",
       "<table border=\"1\" class=\"dataframe\">\n",
       "  <thead>\n",
       "    <tr style=\"text-align: right;\">\n",
       "      <th></th>\n",
       "      <th>intent</th>\n",
       "      <th>text</th>\n",
       "      <th>responses</th>\n",
       "      <th>extension</th>\n",
       "      <th>context</th>\n",
       "      <th>entityType</th>\n",
       "      <th>entities</th>\n",
       "    </tr>\n",
       "  </thead>\n",
       "  <tbody>\n",
       "    <tr>\n",
       "      <th>0</th>\n",
       "      <td>शुभकामना</td>\n",
       "      <td>[Hi, Hi there, Hola, Hello, Hello there, Hya, ...</td>\n",
       "      <td>[Hi human, Hello human, Hola human]</td>\n",
       "      <td>{'function': '', 'entities': False, 'responses...</td>\n",
       "      <td>{'in': '', 'out': 'GreetingUserRequest', 'clea...</td>\n",
       "      <td>NA</td>\n",
       "      <td>[]</td>\n",
       "    </tr>\n",
       "    <tr>\n",
       "      <th>1</th>\n",
       "      <td>ग्रीटिंग रिस्पांस</td>\n",
       "      <td>[My user is &lt;HUMAN&gt;, This is &lt;HUMAN&gt;, I am &lt;HU...</td>\n",
       "      <td>[Great! Hi &lt;HUMAN&gt;! How can I help?, Good! Hi ...</td>\n",
       "      <td>{'function': 'extensions.gHumans.updateHuman',...</td>\n",
       "      <td>{'in': 'GreetingUserRequest', 'out': '', 'clea...</td>\n",
       "      <td>NA</td>\n",
       "      <td>[{'entity': 'HUMAN', 'rangeFrom': 3, 'rangeTo'...</td>\n",
       "    </tr>\n",
       "    <tr>\n",
       "      <th>2</th>\n",
       "      <td>सौजन्य अभिवादन</td>\n",
       "      <td>[How are you?, Hi how are you?, Hello how are ...</td>\n",
       "      <td>[Hello, I am great, how are you?, Hello, how a...</td>\n",
       "      <td>{'function': '', 'entities': False, 'responses...</td>\n",
       "      <td>{'in': '', 'out': 'CourtesyGreetingUserRequest...</td>\n",
       "      <td>NA</td>\n",
       "      <td>[]</td>\n",
       "    </tr>\n",
       "    <tr>\n",
       "      <th>3</th>\n",
       "      <td>सौजन्य ग्रीटिंग रिस्पांस</td>\n",
       "      <td>[Good thanks! My user is &lt;HUMAN&gt;, Good thanks!...</td>\n",
       "      <td>[Great! Hi &lt;HUMAN&gt;! How can I help?, Good! Hi ...</td>\n",
       "      <td>{'function': 'extensions.gHumans.updateHuman',...</td>\n",
       "      <td>{'in': 'GreetingUserRequest', 'out': '', 'clea...</td>\n",
       "      <td>NA</td>\n",
       "      <td>[{'entity': 'HUMAN', 'rangeFrom': 5, 'rangeTo'...</td>\n",
       "    </tr>\n",
       "    <tr>\n",
       "      <th>4</th>\n",
       "      <td>वर्तमान मानव क्वेरी</td>\n",
       "      <td>[What is my name?, What do you call me?, Who d...</td>\n",
       "      <td>[You are &lt;HUMAN&gt;! How can I help?, Your name i...</td>\n",
       "      <td>{'function': 'extensions.gHumans.getCurrentHum...</td>\n",
       "      <td>{'in': '', 'out': 'CurrentHumanQuery', 'clear'...</td>\n",
       "      <td>NA</td>\n",
       "      <td>[]</td>\n",
       "    </tr>\n",
       "  </tbody>\n",
       "</table>\n",
       "</div>"
      ],
      "text/plain": [
       "                     intent  \\\n",
       "0                  शुभकामना   \n",
       "1         ग्रीटिंग रिस्पांस   \n",
       "2            सौजन्य अभिवादन   \n",
       "3  सौजन्य ग्रीटिंग रिस्पांस   \n",
       "4       वर्तमान मानव क्वेरी   \n",
       "\n",
       "                                                text  \\\n",
       "0  [Hi, Hi there, Hola, Hello, Hello there, Hya, ...   \n",
       "1  [My user is <HUMAN>, This is <HUMAN>, I am <HU...   \n",
       "2  [How are you?, Hi how are you?, Hello how are ...   \n",
       "3  [Good thanks! My user is <HUMAN>, Good thanks!...   \n",
       "4  [What is my name?, What do you call me?, Who d...   \n",
       "\n",
       "                                           responses  \\\n",
       "0                [Hi human, Hello human, Hola human]   \n",
       "1  [Great! Hi <HUMAN>! How can I help?, Good! Hi ...   \n",
       "2  [Hello, I am great, how are you?, Hello, how a...   \n",
       "3  [Great! Hi <HUMAN>! How can I help?, Good! Hi ...   \n",
       "4  [You are <HUMAN>! How can I help?, Your name i...   \n",
       "\n",
       "                                           extension  \\\n",
       "0  {'function': '', 'entities': False, 'responses...   \n",
       "1  {'function': 'extensions.gHumans.updateHuman',...   \n",
       "2  {'function': '', 'entities': False, 'responses...   \n",
       "3  {'function': 'extensions.gHumans.updateHuman',...   \n",
       "4  {'function': 'extensions.gHumans.getCurrentHum...   \n",
       "\n",
       "                                             context entityType  \\\n",
       "0  {'in': '', 'out': 'GreetingUserRequest', 'clea...         NA   \n",
       "1  {'in': 'GreetingUserRequest', 'out': '', 'clea...         NA   \n",
       "2  {'in': '', 'out': 'CourtesyGreetingUserRequest...         NA   \n",
       "3  {'in': 'GreetingUserRequest', 'out': '', 'clea...         NA   \n",
       "4  {'in': '', 'out': 'CurrentHumanQuery', 'clear'...         NA   \n",
       "\n",
       "                                            entities  \n",
       "0                                                 []  \n",
       "1  [{'entity': 'HUMAN', 'rangeFrom': 3, 'rangeTo'...  \n",
       "2                                                 []  \n",
       "3  [{'entity': 'HUMAN', 'rangeFrom': 5, 'rangeTo'...  \n",
       "4                                                 []  "
      ]
     },
     "execution_count": 34,
     "metadata": {},
     "output_type": "execute_result"
    }
   ],
   "source": [
    "# SPLIT INTENTS AND TRANSLATE TO HINDI\n",
    "df['intent'] = df['intent'].apply(camel_case_split)\n",
    "df['intent'] = df['intent'].apply(translate)\n",
    "df.head()"
   ]
  },
  {
   "cell_type": "code",
   "execution_count": 35,
   "metadata": {},
   "outputs": [
    {
     "data": {
      "text/html": [
       "<div>\n",
       "<style scoped>\n",
       "    .dataframe tbody tr th:only-of-type {\n",
       "        vertical-align: middle;\n",
       "    }\n",
       "\n",
       "    .dataframe tbody tr th {\n",
       "        vertical-align: top;\n",
       "    }\n",
       "\n",
       "    .dataframe thead th {\n",
       "        text-align: right;\n",
       "    }\n",
       "</style>\n",
       "<table border=\"1\" class=\"dataframe\">\n",
       "  <thead>\n",
       "    <tr style=\"text-align: right;\">\n",
       "      <th></th>\n",
       "      <th>intent</th>\n",
       "      <th>text</th>\n",
       "      <th>responses</th>\n",
       "      <th>extension</th>\n",
       "      <th>context</th>\n",
       "      <th>entityType</th>\n",
       "      <th>entities</th>\n",
       "    </tr>\n",
       "  </thead>\n",
       "  <tbody>\n",
       "    <tr>\n",
       "      <th>0</th>\n",
       "      <td>शुभकामना</td>\n",
       "      <td>[नमस्ते, आपको नमस्कार, हैलो, नमस्कार, आपको नमस...</td>\n",
       "      <td>[हाय मानव, नमस्ते मानव, होला मानव]</td>\n",
       "      <td>{'function': '', 'entities': False, 'responses...</td>\n",
       "      <td>{'in': '', 'out': 'GreetingUserRequest', 'clea...</td>\n",
       "      <td>NA</td>\n",
       "      <td>[]</td>\n",
       "    </tr>\n",
       "    <tr>\n",
       "      <th>1</th>\n",
       "      <td>ग्रीटिंग रिस्पांस</td>\n",
       "      <td>[मेरा उपयोगकर्ता है&lt;HUMAN&gt;, यह है&lt;HUMAN&gt;, मैं ...</td>\n",
       "      <td>[शानदार! हाय &lt;HUMAN&gt;! मैं कैसे मदद कर सकता हूं...</td>\n",
       "      <td>{'function': 'extensions.gHumans.updateHuman',...</td>\n",
       "      <td>{'in': 'GreetingUserRequest', 'out': '', 'clea...</td>\n",
       "      <td>NA</td>\n",
       "      <td>[{'entity': 'HUMAN', 'rangeFrom': 3, 'rangeTo'...</td>\n",
       "    </tr>\n",
       "    <tr>\n",
       "      <th>2</th>\n",
       "      <td>सौजन्य अभिवादन</td>\n",
       "      <td>[तुम कैसे हो?, नमस्ते क्या हालचाल है?, नमस्कार...</td>\n",
       "      <td>[नमस्ते, मैं महान हूं, तुम कैसे हो?, नमस्कार क...</td>\n",
       "      <td>{'function': '', 'entities': False, 'responses...</td>\n",
       "      <td>{'in': '', 'out': 'CourtesyGreetingUserRequest...</td>\n",
       "      <td>NA</td>\n",
       "      <td>[]</td>\n",
       "    </tr>\n",
       "    <tr>\n",
       "      <th>3</th>\n",
       "      <td>सौजन्य ग्रीटिंग रिस्पांस</td>\n",
       "      <td>[अच्छा धन्यवाद! मेरा उपयोगकर्ता है&lt;HUMAN&gt;, अच्...</td>\n",
       "      <td>[शानदार! हाय &lt;HUMAN&gt;! मैं कैसे मदद कर सकता हूं...</td>\n",
       "      <td>{'function': 'extensions.gHumans.updateHuman',...</td>\n",
       "      <td>{'in': 'GreetingUserRequest', 'out': '', 'clea...</td>\n",
       "      <td>NA</td>\n",
       "      <td>[{'entity': 'HUMAN', 'rangeFrom': 5, 'rangeTo'...</td>\n",
       "    </tr>\n",
       "    <tr>\n",
       "      <th>4</th>\n",
       "      <td>वर्तमान मानव क्वेरी</td>\n",
       "      <td>[मेरा नाम क्या है?, आप मुझे क्या कहते हैं?, आप...</td>\n",
       "      <td>[आप &lt;HUMAN&gt; रहे हैं! मैं कैसे मदद कर सकता हूं?...</td>\n",
       "      <td>{'function': 'extensions.gHumans.getCurrentHum...</td>\n",
       "      <td>{'in': '', 'out': 'CurrentHumanQuery', 'clear'...</td>\n",
       "      <td>NA</td>\n",
       "      <td>[]</td>\n",
       "    </tr>\n",
       "  </tbody>\n",
       "</table>\n",
       "</div>"
      ],
      "text/plain": [
       "                     intent  \\\n",
       "0                  शुभकामना   \n",
       "1         ग्रीटिंग रिस्पांस   \n",
       "2            सौजन्य अभिवादन   \n",
       "3  सौजन्य ग्रीटिंग रिस्पांस   \n",
       "4       वर्तमान मानव क्वेरी   \n",
       "\n",
       "                                                text  \\\n",
       "0  [नमस्ते, आपको नमस्कार, हैलो, नमस्कार, आपको नमस...   \n",
       "1  [मेरा उपयोगकर्ता है<HUMAN>, यह है<HUMAN>, मैं ...   \n",
       "2  [तुम कैसे हो?, नमस्ते क्या हालचाल है?, नमस्कार...   \n",
       "3  [अच्छा धन्यवाद! मेरा उपयोगकर्ता है<HUMAN>, अच्...   \n",
       "4  [मेरा नाम क्या है?, आप मुझे क्या कहते हैं?, आप...   \n",
       "\n",
       "                                           responses  \\\n",
       "0                 [हाय मानव, नमस्ते मानव, होला मानव]   \n",
       "1  [शानदार! हाय <HUMAN>! मैं कैसे मदद कर सकता हूं...   \n",
       "2  [नमस्ते, मैं महान हूं, तुम कैसे हो?, नमस्कार क...   \n",
       "3  [शानदार! हाय <HUMAN>! मैं कैसे मदद कर सकता हूं...   \n",
       "4  [आप <HUMAN> रहे हैं! मैं कैसे मदद कर सकता हूं?...   \n",
       "\n",
       "                                           extension  \\\n",
       "0  {'function': '', 'entities': False, 'responses...   \n",
       "1  {'function': 'extensions.gHumans.updateHuman',...   \n",
       "2  {'function': '', 'entities': False, 'responses...   \n",
       "3  {'function': 'extensions.gHumans.updateHuman',...   \n",
       "4  {'function': 'extensions.gHumans.getCurrentHum...   \n",
       "\n",
       "                                             context entityType  \\\n",
       "0  {'in': '', 'out': 'GreetingUserRequest', 'clea...         NA   \n",
       "1  {'in': 'GreetingUserRequest', 'out': '', 'clea...         NA   \n",
       "2  {'in': '', 'out': 'CourtesyGreetingUserRequest...         NA   \n",
       "3  {'in': 'GreetingUserRequest', 'out': '', 'clea...         NA   \n",
       "4  {'in': '', 'out': 'CurrentHumanQuery', 'clear'...         NA   \n",
       "\n",
       "                                            entities  \n",
       "0                                                 []  \n",
       "1  [{'entity': 'HUMAN', 'rangeFrom': 3, 'rangeTo'...  \n",
       "2                                                 []  \n",
       "3  [{'entity': 'HUMAN', 'rangeFrom': 5, 'rangeTo'...  \n",
       "4                                                 []  "
      ]
     },
     "execution_count": 35,
     "metadata": {},
     "output_type": "execute_result"
    }
   ],
   "source": [
    "# NOW ALSO TRANSLATE TEXT AND RESPONSES\n",
    "df['responses'] = df['responses'].apply(translate)\n",
    "df['text'] = df['text'].apply(translate)\n",
    "df.head()"
   ]
  },
  {
   "cell_type": "code",
   "execution_count": 44,
   "metadata": {},
   "outputs": [],
   "source": [
    "# SAVE FINAL HINDI DATASET\n",
    "df.to_json(f'hindi_intent.json')"
   ]
  },
  {
   "cell_type": "code",
   "execution_count": 15,
   "metadata": {},
   "outputs": [
    {
     "data": {
      "text/html": [
       "<div>\n",
       "<style scoped>\n",
       "    .dataframe tbody tr th:only-of-type {\n",
       "        vertical-align: middle;\n",
       "    }\n",
       "\n",
       "    .dataframe tbody tr th {\n",
       "        vertical-align: top;\n",
       "    }\n",
       "\n",
       "    .dataframe thead th {\n",
       "        text-align: right;\n",
       "    }\n",
       "</style>\n",
       "<table border=\"1\" class=\"dataframe\">\n",
       "  <thead>\n",
       "    <tr style=\"text-align: right;\">\n",
       "      <th></th>\n",
       "      <th>intent</th>\n",
       "      <th>text</th>\n",
       "      <th>responses</th>\n",
       "      <th>extension</th>\n",
       "      <th>context</th>\n",
       "      <th>entityType</th>\n",
       "      <th>entities</th>\n",
       "    </tr>\n",
       "  </thead>\n",
       "  <tbody>\n",
       "    <tr>\n",
       "      <th>0</th>\n",
       "      <td>शुभकामना</td>\n",
       "      <td>[नमस्ते, आपको नमस्कार, हैलो, नमस्कार, आपको नमस...</td>\n",
       "      <td>[हाय मानव, नमस्ते मानव, होला मानव]</td>\n",
       "      <td>{'function': '', 'entities': False, 'responses...</td>\n",
       "      <td>{'in': '', 'out': 'GreetingUserRequest', 'clea...</td>\n",
       "      <td>NA</td>\n",
       "      <td>[]</td>\n",
       "    </tr>\n",
       "    <tr>\n",
       "      <th>1</th>\n",
       "      <td>ग्रीटिंग रिस्पांस</td>\n",
       "      <td>[मेरा उपयोगकर्ता है&lt;HUMAN&gt;, यह है&lt;HUMAN&gt;, मैं ...</td>\n",
       "      <td>[शानदार! हाय &lt;HUMAN&gt;! मैं कैसे मदद कर सकता हूं...</td>\n",
       "      <td>{'function': 'extensions.gHumans.updateHuman',...</td>\n",
       "      <td>{'in': 'GreetingUserRequest', 'out': '', 'clea...</td>\n",
       "      <td>NA</td>\n",
       "      <td>[{'entity': 'HUMAN', 'rangeFrom': 3, 'rangeTo'...</td>\n",
       "    </tr>\n",
       "    <tr>\n",
       "      <th>2</th>\n",
       "      <td>सौजन्य अभिवादन</td>\n",
       "      <td>[तुम कैसे हो?, नमस्ते क्या हालचाल है?, नमस्कार...</td>\n",
       "      <td>[नमस्ते, मैं महान हूं, तुम कैसे हो?, नमस्कार क...</td>\n",
       "      <td>{'function': '', 'entities': False, 'responses...</td>\n",
       "      <td>{'in': '', 'out': 'CourtesyGreetingUserRequest...</td>\n",
       "      <td>NA</td>\n",
       "      <td>[]</td>\n",
       "    </tr>\n",
       "    <tr>\n",
       "      <th>3</th>\n",
       "      <td>सौजन्य ग्रीटिंग रिस्पांस</td>\n",
       "      <td>[अच्छा धन्यवाद! मेरा उपयोगकर्ता है&lt;HUMAN&gt;, अच्...</td>\n",
       "      <td>[शानदार! हाय &lt;HUMAN&gt;! मैं कैसे मदद कर सकता हूं...</td>\n",
       "      <td>{'function': 'extensions.gHumans.updateHuman',...</td>\n",
       "      <td>{'in': 'GreetingUserRequest', 'out': '', 'clea...</td>\n",
       "      <td>NA</td>\n",
       "      <td>[{'entity': 'HUMAN', 'rangeFrom': 5, 'rangeTo'...</td>\n",
       "    </tr>\n",
       "    <tr>\n",
       "      <th>4</th>\n",
       "      <td>वर्तमान मानव क्वेरी</td>\n",
       "      <td>[मेरा नाम क्या है?, आप मुझे क्या कहते हैं?, आप...</td>\n",
       "      <td>[आप &lt;HUMAN&gt; रहे हैं! मैं कैसे मदद कर सकता हूं?...</td>\n",
       "      <td>{'function': 'extensions.gHumans.getCurrentHum...</td>\n",
       "      <td>{'in': '', 'out': 'CurrentHumanQuery', 'clear'...</td>\n",
       "      <td>NA</td>\n",
       "      <td>[]</td>\n",
       "    </tr>\n",
       "  </tbody>\n",
       "</table>\n",
       "</div>"
      ],
      "text/plain": [
       "                     intent  \\\n",
       "0                  शुभकामना   \n",
       "1         ग्रीटिंग रिस्पांस   \n",
       "2            सौजन्य अभिवादन   \n",
       "3  सौजन्य ग्रीटिंग रिस्पांस   \n",
       "4       वर्तमान मानव क्वेरी   \n",
       "\n",
       "                                                text  \\\n",
       "0  [नमस्ते, आपको नमस्कार, हैलो, नमस्कार, आपको नमस...   \n",
       "1  [मेरा उपयोगकर्ता है<HUMAN>, यह है<HUMAN>, मैं ...   \n",
       "2  [तुम कैसे हो?, नमस्ते क्या हालचाल है?, नमस्कार...   \n",
       "3  [अच्छा धन्यवाद! मेरा उपयोगकर्ता है<HUMAN>, अच्...   \n",
       "4  [मेरा नाम क्या है?, आप मुझे क्या कहते हैं?, आप...   \n",
       "\n",
       "                                           responses  \\\n",
       "0                 [हाय मानव, नमस्ते मानव, होला मानव]   \n",
       "1  [शानदार! हाय <HUMAN>! मैं कैसे मदद कर सकता हूं...   \n",
       "2  [नमस्ते, मैं महान हूं, तुम कैसे हो?, नमस्कार क...   \n",
       "3  [शानदार! हाय <HUMAN>! मैं कैसे मदद कर सकता हूं...   \n",
       "4  [आप <HUMAN> रहे हैं! मैं कैसे मदद कर सकता हूं?...   \n",
       "\n",
       "                                           extension  \\\n",
       "0  {'function': '', 'entities': False, 'responses...   \n",
       "1  {'function': 'extensions.gHumans.updateHuman',...   \n",
       "2  {'function': '', 'entities': False, 'responses...   \n",
       "3  {'function': 'extensions.gHumans.updateHuman',...   \n",
       "4  {'function': 'extensions.gHumans.getCurrentHum...   \n",
       "\n",
       "                                             context entityType  \\\n",
       "0  {'in': '', 'out': 'GreetingUserRequest', 'clea...         NA   \n",
       "1  {'in': 'GreetingUserRequest', 'out': '', 'clea...         NA   \n",
       "2  {'in': '', 'out': 'CourtesyGreetingUserRequest...         NA   \n",
       "3  {'in': 'GreetingUserRequest', 'out': '', 'clea...         NA   \n",
       "4  {'in': '', 'out': 'CurrentHumanQuery', 'clear'...         NA   \n",
       "\n",
       "                                            entities  \n",
       "0                                                 []  \n",
       "1  [{'entity': 'HUMAN', 'rangeFrom': 3, 'rangeTo'...  \n",
       "2                                                 []  \n",
       "3  [{'entity': 'HUMAN', 'rangeFrom': 5, 'rangeTo'...  \n",
       "4                                                 []  "
      ]
     },
     "execution_count": 15,
     "metadata": {},
     "output_type": "execute_result"
    }
   ],
   "source": [
    "# READ HINDI DATASET\n",
    "hdf = pd.read_json('hindi_intent.json')\n",
    "hdf.head()"
   ]
  },
  {
   "cell_type": "code",
   "execution_count": 3,
   "metadata": {},
   "outputs": [
    {
     "data": {
      "text/html": [
       "<div>\n",
       "<style scoped>\n",
       "    .dataframe tbody tr th:only-of-type {\n",
       "        vertical-align: middle;\n",
       "    }\n",
       "\n",
       "    .dataframe tbody tr th {\n",
       "        vertical-align: top;\n",
       "    }\n",
       "\n",
       "    .dataframe thead th {\n",
       "        text-align: right;\n",
       "    }\n",
       "</style>\n",
       "<table border=\"1\" class=\"dataframe\">\n",
       "  <thead>\n",
       "    <tr style=\"text-align: right;\">\n",
       "      <th></th>\n",
       "      <th>intent</th>\n",
       "      <th>caption</th>\n",
       "    </tr>\n",
       "  </thead>\n",
       "  <tbody>\n",
       "    <tr>\n",
       "      <th>0</th>\n",
       "      <td>शुभकामना</td>\n",
       "      <td>नमस्ते</td>\n",
       "    </tr>\n",
       "    <tr>\n",
       "      <th>1</th>\n",
       "      <td>शुभकामना</td>\n",
       "      <td>आपको नमस्कार</td>\n",
       "    </tr>\n",
       "    <tr>\n",
       "      <th>2</th>\n",
       "      <td>शुभकामना</td>\n",
       "      <td>हैलो</td>\n",
       "    </tr>\n",
       "    <tr>\n",
       "      <th>3</th>\n",
       "      <td>शुभकामना</td>\n",
       "      <td>नमस्कार</td>\n",
       "    </tr>\n",
       "    <tr>\n",
       "      <th>4</th>\n",
       "      <td>शुभकामना</td>\n",
       "      <td>आपको नमस्कार</td>\n",
       "    </tr>\n",
       "  </tbody>\n",
       "</table>\n",
       "</div>"
      ],
      "text/plain": [
       "     intent       caption\n",
       "0  शुभकामना        नमस्ते\n",
       "1  शुभकामना  आपको नमस्कार\n",
       "2  शुभकामना          हैलो\n",
       "3  शुभकामना       नमस्कार\n",
       "4  शुभकामना  आपको नमस्कार"
      ]
     },
     "execution_count": 3,
     "metadata": {},
     "output_type": "execute_result"
    }
   ],
   "source": [
    "# SEPARATE CLUBBED TEXT ROWS\n",
    "intent = []\n",
    "for field in hdf.values:\n",
    "    for text in field[1]:\n",
    "        intent.append({'intent':field[0], 'caption':text})\n",
    "data = pd.DataFrame(intent)\n",
    "data.head()"
   ]
  },
  {
   "cell_type": "code",
   "execution_count": 50,
   "metadata": {},
   "outputs": [],
   "source": [
    "%%capture\n",
    "# GET EMBEDDING OF SENTENCES\n",
    "# inltk prints empty lines while encoding sentences so %%capture anulls that\n",
    "\n",
    "X = []\n",
    "for sent in data['caption']:\n",
    "    X.append(get_sentence_encoding(sent,'hi'))"
   ]
  },
  {
   "cell_type": "code",
   "execution_count": 5,
   "metadata": {},
   "outputs": [
    {
     "data": {
      "text/plain": [
       "(143, 400)"
      ]
     },
     "execution_count": 5,
     "metadata": {},
     "output_type": "execute_result"
    }
   ],
   "source": [
    "X = np.array(X)\n",
    "X.shape"
   ]
  },
  {
   "cell_type": "code",
   "execution_count": 6,
   "metadata": {},
   "outputs": [
    {
     "data": {
      "text/plain": [
       "(143, 22)"
      ]
     },
     "execution_count": 6,
     "metadata": {},
     "output_type": "execute_result"
    }
   ],
   "source": [
    "# ONE HOT ENCODE LABELS FOR USE IN MODEL\n",
    "ohe = OneHotEncoder()\n",
    "le = LabelEncoder()\n",
    "intents = le.fit_transform(data['intent'])\n",
    "intents = intents.reshape(-1,1)\n",
    "intents = ohe.fit_transform(intents).toarray()\n",
    "intents.shape"
   ]
  },
  {
   "cell_type": "code",
   "execution_count": 7,
   "metadata": {},
   "outputs": [],
   "source": [
    "with open('pickles/ohe', 'wb+') as handle:\n",
    "    pickle.dump(ohe, handle)\n",
    "with open('pickles/le', 'wb+') as handle:\n",
    "    pickle.dump(le, handle)"
   ]
  },
  {
   "cell_type": "code",
   "execution_count": 8,
   "metadata": {},
   "outputs": [
    {
     "name": "stdout",
     "output_type": "stream",
     "text": [
      "(121, 1, 400) (121, 22)\n",
      "(22, 1, 400) (22, 22)\n"
     ]
    }
   ],
   "source": [
    "# TRAIN TEST SPLIT\n",
    "train_X, test_X, train_Y, test_Y = train_test_split(X, intents, test_size = 0.15)\n",
    "train_X = train_X.reshape(len(train_X), 1, train_X.shape[1])\n",
    "test_X = test_X.reshape(len(test_X), 1, test_X.shape[1])\n",
    "print(train_X.shape, train_Y.shape)\n",
    "print(test_X.shape, test_Y.shape)"
   ]
  },
  {
   "cell_type": "code",
   "execution_count": 9,
   "metadata": {},
   "outputs": [
    {
     "data": {
      "text/plain": [
       "(143, 1, 400)"
      ]
     },
     "execution_count": 9,
     "metadata": {},
     "output_type": "execute_result"
    }
   ],
   "source": [
    "X = X.reshape(len(X),1,X.shape[1])\n",
    "X.shape"
   ]
  },
  {
   "cell_type": "code",
   "execution_count": 10,
   "metadata": {},
   "outputs": [],
   "source": [
    "X, y = shuffle(X, intents)"
   ]
  },
  {
   "cell_type": "code",
   "execution_count": 11,
   "metadata": {},
   "outputs": [
    {
     "name": "stdout",
     "output_type": "stream",
     "text": [
      "Model: \"sequential_1\"\n",
      "_________________________________________________________________\n",
      "Layer (type)                 Output Shape              Param #   \n",
      "=================================================================\n",
      "bidirectional (Bidirectional (None, 256)               541696    \n",
      "_________________________________________________________________\n",
      "dropout (Dropout)            (None, 256)               0         \n",
      "_________________________________________________________________\n",
      "dense (Dense)                (None, 22)                5654      \n",
      "=================================================================\n",
      "Total params: 547,350\n",
      "Trainable params: 547,350\n",
      "Non-trainable params: 0\n",
      "_________________________________________________________________\n"
     ]
    }
   ],
   "source": [
    "# BUILD MODEL\n",
    "model = Sequential()\n",
    "model.add(Bidirectional(LSTM(128), input_shape=(train_X.shape[1:])))\n",
    "model.add(Dropout(0.8))\n",
    "model.add(Dense(intents.shape[1], activation = \"softmax\"))\n",
    "model.compile(loss = \"categorical_crossentropy\", optimizer = \"adam\", metrics = [\"accuracy\"])\n",
    "model.summary()"
   ]
  },
  {
   "cell_type": "code",
   "execution_count": 91,
   "metadata": {},
   "outputs": [
    {
     "name": "stdout",
     "output_type": "stream",
     "text": [
      "\n",
      "Epoch 00001: val_accuracy improved from -inf to 0.20000, saving model to weights.best.hdf5\n",
      "\n",
      "Epoch 00002: val_accuracy improved from 0.20000 to 0.33333, saving model to weights.best.hdf5\n",
      "\n",
      "Epoch 00003: val_accuracy did not improve from 0.33333\n",
      "\n",
      "Epoch 00004: val_accuracy improved from 0.33333 to 0.46667, saving model to weights.best.hdf5\n",
      "\n",
      "Epoch 00005: val_accuracy improved from 0.46667 to 0.53333, saving model to weights.best.hdf5\n",
      "\n",
      "Epoch 00006: val_accuracy did not improve from 0.53333\n",
      "\n",
      "Epoch 00007: val_accuracy did not improve from 0.53333\n",
      "\n",
      "Epoch 00008: val_accuracy improved from 0.53333 to 0.60000, saving model to weights.best.hdf5\n",
      "\n",
      "Epoch 00009: val_accuracy did not improve from 0.60000\n",
      "\n",
      "Epoch 00010: val_accuracy improved from 0.60000 to 0.66667, saving model to weights.best.hdf5\n",
      "\n",
      "Epoch 00011: val_accuracy did not improve from 0.66667\n",
      "\n",
      "Epoch 00012: val_accuracy did not improve from 0.66667\n",
      "\n",
      "Epoch 00013: val_accuracy did not improve from 0.66667\n",
      "\n",
      "Epoch 00014: val_accuracy did not improve from 0.66667\n",
      "\n",
      "Epoch 00015: val_accuracy did not improve from 0.66667\n",
      "\n",
      "Epoch 00016: val_accuracy improved from 0.66667 to 0.73333, saving model to weights.best.hdf5\n",
      "\n",
      "Epoch 00017: val_accuracy did not improve from 0.73333\n",
      "\n",
      "Epoch 00018: val_accuracy did not improve from 0.73333\n",
      "\n",
      "Epoch 00019: val_accuracy did not improve from 0.73333\n",
      "\n",
      "Epoch 00020: val_accuracy did not improve from 0.73333\n",
      "\n",
      "Epoch 00021: val_accuracy did not improve from 0.73333\n",
      "\n",
      "Epoch 00022: val_accuracy did not improve from 0.73333\n",
      "\n",
      "Epoch 00023: val_accuracy did not improve from 0.73333\n",
      "\n",
      "Epoch 00024: val_accuracy did not improve from 0.73333\n",
      "\n",
      "Epoch 00025: val_accuracy did not improve from 0.73333\n",
      "\n",
      "Epoch 00026: val_accuracy did not improve from 0.73333\n",
      "\n",
      "Epoch 00027: val_accuracy improved from 0.73333 to 0.80000, saving model to weights.best.hdf5\n",
      "\n",
      "Epoch 00028: val_accuracy did not improve from 0.80000\n",
      "\n",
      "Epoch 00029: val_accuracy did not improve from 0.80000\n",
      "\n",
      "Epoch 00030: val_accuracy did not improve from 0.80000\n",
      "\n",
      "Epoch 00031: val_accuracy did not improve from 0.80000\n",
      "\n",
      "Epoch 00032: val_accuracy did not improve from 0.80000\n",
      "\n",
      "Epoch 00033: val_accuracy did not improve from 0.80000\n",
      "\n",
      "Epoch 00034: val_accuracy did not improve from 0.80000\n",
      "\n",
      "Epoch 00035: val_accuracy did not improve from 0.80000\n",
      "\n",
      "Epoch 00036: val_accuracy did not improve from 0.80000\n",
      "\n",
      "Epoch 00037: val_accuracy did not improve from 0.80000\n",
      "\n",
      "Epoch 00038: val_accuracy did not improve from 0.80000\n",
      "\n",
      "Epoch 00039: val_accuracy did not improve from 0.80000\n",
      "\n",
      "Epoch 00040: val_accuracy did not improve from 0.80000\n",
      "\n",
      "Epoch 00041: val_accuracy did not improve from 0.80000\n",
      "\n",
      "Epoch 00042: val_accuracy did not improve from 0.80000\n",
      "\n",
      "Epoch 00043: val_accuracy did not improve from 0.80000\n",
      "\n",
      "Epoch 00044: val_accuracy did not improve from 0.80000\n",
      "\n",
      "Epoch 00045: val_accuracy did not improve from 0.80000\n",
      "\n",
      "Epoch 00046: val_accuracy did not improve from 0.80000\n",
      "\n",
      "Epoch 00047: val_accuracy did not improve from 0.80000\n",
      "\n",
      "Epoch 00048: val_accuracy did not improve from 0.80000\n",
      "\n",
      "Epoch 00049: val_accuracy did not improve from 0.80000\n",
      "\n",
      "Epoch 00050: val_accuracy did not improve from 0.80000\n",
      "\n",
      "Epoch 00051: val_accuracy did not improve from 0.80000\n",
      "\n",
      "Epoch 00052: val_accuracy did not improve from 0.80000\n",
      "\n",
      "Epoch 00053: val_accuracy did not improve from 0.80000\n"
     ]
    }
   ],
   "source": [
    "# TRAIN MODEL\n",
    "filepath = \"weights.best.hdf5\"\n",
    "cp_callback = ModelCheckpoint(filepath, monitor='val_accuracy', verbose=1, save_best_only=True, mode='max')\n",
    "es_callback = EarlyStopping(monitor='val_loss', patience=5)\n",
    "history = model.fit(X, y,\n",
    "                    epochs=100, \n",
    "                    validation_split=0.1, \n",
    "                    batch_size=11,\n",
    "                    verbose=0,\n",
    "                    callbacks=[es_callback,cp_callback]\n",
    "                   )"
   ]
  },
  {
   "cell_type": "code",
   "execution_count": 95,
   "metadata": {},
   "outputs": [
    {
     "data": {
      "image/png": "[encoded data removed]",
      "text/plain": [
       "<Figure size 432x288 with 1 Axes>"
      ]
     },
     "metadata": {
      "needs_background": "light"
     },
     "output_type": "display_data"
    },
    {
     "data": {
      "image/png": "[encoded data removed]",
      "text/plain": [
       "<Figure size 432x288 with 1 Axes>"
      ]
     },
     "metadata": {
      "needs_background": "light"
     },
     "output_type": "display_data"
    }
   ],
   "source": [
    "# PLOT TRAINING HISTORY\n",
    "\n",
    "def plot_graphs(history, string):\n",
    "  plt.plot(history.history[string])\n",
    "  plt.plot(history.history['val_'+string])\n",
    "  plt.xlabel(\"Epochs\")\n",
    "  plt.ylabel(string)\n",
    "  plt.legend([string, 'val_'+string])\n",
    "  plt.show()\n",
    "  \n",
    "plot_graphs(history, \"accuracy\")\n",
    "plot_graphs(history, \"loss\")"
   ]
  },
  {
   "cell_type": "code",
   "execution_count": 11,
   "metadata": {},
   "outputs": [
    {
     "ename": "NameError",
     "evalue": "name 'model' is not defined",
     "output_type": "error",
     "traceback": [
      "\u001b[0;31m---------------------------------------------------------------------------\u001b[0m",
      "\u001b[0;31mNameError\u001b[0m                                 Traceback (most recent call last)",
      "\u001b[0;32m<ipython-input-11-e648f13b4080>\u001b[0m in \u001b[0;36m<module>\u001b[0;34m\u001b[0m\n\u001b[1;32m      1\u001b[0m \u001b[0;31m# LOAD BEST WEIGHTS STORED DURING TRAINING\u001b[0m\u001b[0;34m\u001b[0m\u001b[0;34m\u001b[0m\u001b[0;34m\u001b[0m\u001b[0m\n\u001b[0;32m----> 2\u001b[0;31m \u001b[0mmodel\u001b[0m\u001b[0;34m.\u001b[0m\u001b[0mload_weights\u001b[0m\u001b[0;34m(\u001b[0m\u001b[0;34m\"weights.best.hdf5\"\u001b[0m\u001b[0;34m)\u001b[0m\u001b[0;34m\u001b[0m\u001b[0;34m\u001b[0m\u001b[0m\n\u001b[0m",
      "\u001b[0;31mNameError\u001b[0m: name 'model' is not defined"
     ]
    }
   ],
   "source": [
    "# LOAD BEST WEIGHTS STORED DURING TRAINING\n",
    "model.load_weights(\"weights.best.hdf5\")"
   ]
  },
  {
   "cell_type": "code",
   "execution_count": 12,
   "metadata": {},
   "outputs": [
    {
     "name": "stdout",
     "output_type": "stream",
     "text": [
      "WARNING:tensorflow:From /usr/local/lib/python3.7/site-packages/tensorflow/python/training/tracking/tracking.py:111: Model.state_updates (from tensorflow.python.keras.engine.training) is deprecated and will be removed in a future version.\n",
      "Instructions for updating:\n",
      "This property should not be used in TensorFlow 2.0, as updates are applied automatically.\n",
      "WARNING:tensorflow:From /usr/local/lib/python3.7/site-packages/tensorflow/python/training/tracking/tracking.py:111: Layer.updates (from tensorflow.python.keras.engine.base_layer) is deprecated and will be removed in a future version.\n",
      "Instructions for updating:\n",
      "This property should not be used in TensorFlow 2.0, as updates are applied automatically.\n",
      "INFO:tensorflow:Assets written to: model/assets\n"
     ]
    }
   ],
   "source": [
    "model.save('model')"
   ]
  },
  {
   "cell_type": "code",
   "execution_count": 17,
   "metadata": {},
   "outputs": [],
   "source": [
    "import pyttsx3\n",
    "reader = pyttsx3.init()\n",
    "# print(list(map(lambda x: [x.id,x.gender]+x.languages, reader.getProperty('voices'))))\n",
    "\n",
    "def say(text):\n",
    "    for voice in reader.getProperty('voices'):\n",
    "        if voice.languages[0]=='hi_IN' and voice.gender=='VoiceGenderFemale':\n",
    "            reader.setProperty('voice', voice.id)\n",
    "            reader.say(text)\n",
    "            reader.runAndWait()\n",
    "            reader.stop()\n",
    "\n",
    "say('हेलो कैसे हो बेटा')"
   ]
  },
  {
   "cell_type": "code",
   "execution_count": 12,
   "metadata": {},
   "outputs": [],
   "source": [
    "import keras\n",
    "model = keras.models.load_model('model')"
   ]
  },
  {
   "cell_type": "code",
   "execution_count": 13,
   "metadata": {},
   "outputs": [],
   "source": [
    "with open('pickles/ohe', 'rb') as handle:\n",
    "    ohe = pickle.load(handle)\n",
    "with open('pickles/le', 'rb') as handle:\n",
    "    le = pickle.load(handle)"
   ]
  },
  {
   "cell_type": "code",
   "execution_count": 20,
   "metadata": {},
   "outputs": [
    {
     "name": "stdout",
     "output_type": "stream",
     "text": [
      "Enter message: hello this is long\n",
      "Bot input: नमस्ते यह लंबा है\n"
     ]
    },
    {
     "data": {
      "text/html": [],
      "text/plain": [
       "<IPython.core.display.HTML object>"
      ]
     },
     "metadata": {},
     "output_type": "display_data"
    },
    {
     "data": {
      "text/html": [],
      "text/plain": [
       "<IPython.core.display.HTML object>"
      ]
     },
     "metadata": {},
     "output_type": "display_data"
    },
    {
     "name": "stdout",
     "output_type": "stream",
     "text": [
      "यह एक दिलचस्प सवाल है, क्या आप साबित कर सकते हैं कि आप हैं?\n"
     ]
    }
   ],
   "source": [
    "# CHATBOT DEMO RUN\n",
    "message = translate(input(\"Enter message: \"))\n",
    "print('Bot input:', message)\n",
    "\n",
    "encoding = get_sentence_encoding(message,'hi').reshape(1,1,400)\n",
    "result = ohe.inverse_transform(model.predict(encoding))\n",
    "result = le.inverse_transform(result)[0]\n",
    "choices = hdf[hdf['intent']==result]['responses'].to_list()[0]\n",
    "response = random.choice(choices)\n",
    "\n",
    "say(response)\n",
    "print(response)"
   ]
  },
  {
   "cell_type": "code",
   "execution_count": null,
   "metadata": {},
   "outputs": [],
   "source": []
  }
 ],
 "metadata": {
  "kernelspec": {
   "display_name": "Python 3",
   "language": "python",
   "name": "python3"
  },
  "language_info": {
   "codemirror_mode": {
    "name": "ipython",
    "version": 3
   },
   "file_extension": ".py",
   "mimetype": "text/x-python",
   "name": "python",
   "nbconvert_exporter": "python",
   "pygments_lexer": "ipython3",
   "version": "3.7.10"
  }
 },
 "nbformat": 4,
 "nbformat_minor": 2
}
